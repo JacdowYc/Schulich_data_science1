{
 "cells": [
  {
   "cell_type": "code",
   "execution_count": 400,
   "metadata": {},
   "outputs": [],
   "source": [
    "import pandas as pd\n",
    "import numpy as np\n",
    "import matplotlib.pyplot as plt\n",
    "import seaborn as sns\n",
    "from scipy import stats"
   ]
  },
  {
   "cell_type": "code",
   "execution_count": 401,
   "metadata": {},
   "outputs": [],
   "source": [
    "df = pd.read_csv('/Users/yuchenzhang/Desktop/MBAN 6110/Dataset/midterm_data.csv')"
   ]
  },
  {
   "cell_type": "code",
   "execution_count": 402,
   "metadata": {},
   "outputs": [
    {
     "data": {
      "text/html": [
       "<div>\n",
       "<style scoped>\n",
       "    .dataframe tbody tr th:only-of-type {\n",
       "        vertical-align: middle;\n",
       "    }\n",
       "\n",
       "    .dataframe tbody tr th {\n",
       "        vertical-align: top;\n",
       "    }\n",
       "\n",
       "    .dataframe thead th {\n",
       "        text-align: right;\n",
       "    }\n",
       "</style>\n",
       "<table border=\"1\" class=\"dataframe\">\n",
       "  <thead>\n",
       "    <tr style=\"text-align: right;\">\n",
       "      <th></th>\n",
       "      <th>userID</th>\n",
       "      <th>age</th>\n",
       "      <th>sessions</th>\n",
       "      <th>time_spent</th>\n",
       "      <th>pages_visited</th>\n",
       "      <th>cart_items</th>\n",
       "      <th>cart_value</th>\n",
       "      <th>checkout_status</th>\n",
       "      <th>device</th>\n",
       "      <th>location</th>\n",
       "    </tr>\n",
       "  </thead>\n",
       "  <tbody>\n",
       "    <tr>\n",
       "      <th>0</th>\n",
       "      <td>1</td>\n",
       "      <td>62</td>\n",
       "      <td>3</td>\n",
       "      <td>13.295129</td>\n",
       "      <td>2</td>\n",
       "      <td>20</td>\n",
       "      <td>199.21</td>\n",
       "      <td>0</td>\n",
       "      <td>Desktop</td>\n",
       "      <td>Location 1</td>\n",
       "    </tr>\n",
       "    <tr>\n",
       "      <th>1</th>\n",
       "      <td>2</td>\n",
       "      <td>65</td>\n",
       "      <td>2</td>\n",
       "      <td>21.686405</td>\n",
       "      <td>3</td>\n",
       "      <td>21</td>\n",
       "      <td>294.82</td>\n",
       "      <td>0</td>\n",
       "      <td>Desktop</td>\n",
       "      <td>Location 3</td>\n",
       "    </tr>\n",
       "    <tr>\n",
       "      <th>2</th>\n",
       "      <td>3</td>\n",
       "      <td>18</td>\n",
       "      <td>7</td>\n",
       "      <td>17.135220</td>\n",
       "      <td>4</td>\n",
       "      <td>23</td>\n",
       "      <td>240.87</td>\n",
       "      <td>0</td>\n",
       "      <td>Desktop</td>\n",
       "      <td>Location 4</td>\n",
       "    </tr>\n",
       "    <tr>\n",
       "      <th>3</th>\n",
       "      <td>4</td>\n",
       "      <td>21</td>\n",
       "      <td>9</td>\n",
       "      <td>29.589311</td>\n",
       "      <td>8</td>\n",
       "      <td>16</td>\n",
       "      <td>183.78</td>\n",
       "      <td>1</td>\n",
       "      <td>Desktop</td>\n",
       "      <td>Location 2</td>\n",
       "    </tr>\n",
       "    <tr>\n",
       "      <th>4</th>\n",
       "      <td>5</td>\n",
       "      <td>21</td>\n",
       "      <td>3</td>\n",
       "      <td>25.948584</td>\n",
       "      <td>4</td>\n",
       "      <td>10</td>\n",
       "      <td>59.51</td>\n",
       "      <td>1</td>\n",
       "      <td>Tablet</td>\n",
       "      <td>Location 4</td>\n",
       "    </tr>\n",
       "  </tbody>\n",
       "</table>\n",
       "</div>"
      ],
      "text/plain": [
       "   userID  age  sessions  time_spent  pages_visited  cart_items  cart_value   \n",
       "0       1   62         3   13.295129              2          20      199.21  \\\n",
       "1       2   65         2   21.686405              3          21      294.82   \n",
       "2       3   18         7   17.135220              4          23      240.87   \n",
       "3       4   21         9   29.589311              8          16      183.78   \n",
       "4       5   21         3   25.948584              4          10       59.51   \n",
       "\n",
       "   checkout_status   device    location  \n",
       "0                0  Desktop  Location 1  \n",
       "1                0  Desktop  Location 3  \n",
       "2                0  Desktop  Location 4  \n",
       "3                1  Desktop  Location 2  \n",
       "4                1   Tablet  Location 4  "
      ]
     },
     "execution_count": 402,
     "metadata": {},
     "output_type": "execute_result"
    }
   ],
   "source": [
    "df.head()"
   ]
  },
  {
   "cell_type": "code",
   "execution_count": 403,
   "metadata": {},
   "outputs": [
    {
     "name": "stdout",
     "output_type": "stream",
     "text": [
      "<class 'pandas.core.frame.DataFrame'>\n",
      "RangeIndex: 5000 entries, 0 to 4999\n",
      "Data columns (total 10 columns):\n",
      " #   Column           Non-Null Count  Dtype  \n",
      "---  ------           --------------  -----  \n",
      " 0   userID           5000 non-null   int64  \n",
      " 1   age              5000 non-null   int64  \n",
      " 2   sessions         5000 non-null   int64  \n",
      " 3   time_spent       5000 non-null   float64\n",
      " 4   pages_visited    5000 non-null   int64  \n",
      " 5   cart_items       5000 non-null   int64  \n",
      " 6   cart_value       5000 non-null   float64\n",
      " 7   checkout_status  5000 non-null   int64  \n",
      " 8   device           4900 non-null   object \n",
      " 9   location         4970 non-null   object \n",
      "dtypes: float64(2), int64(6), object(2)\n",
      "memory usage: 390.8+ KB\n"
     ]
    }
   ],
   "source": [
    "df.info()"
   ]
  },
  {
   "cell_type": "code",
   "execution_count": 404,
   "metadata": {},
   "outputs": [
    {
     "data": {
      "text/html": [
       "<div>\n",
       "<style scoped>\n",
       "    .dataframe tbody tr th:only-of-type {\n",
       "        vertical-align: middle;\n",
       "    }\n",
       "\n",
       "    .dataframe tbody tr th {\n",
       "        vertical-align: top;\n",
       "    }\n",
       "\n",
       "    .dataframe thead th {\n",
       "        text-align: right;\n",
       "    }\n",
       "</style>\n",
       "<table border=\"1\" class=\"dataframe\">\n",
       "  <thead>\n",
       "    <tr style=\"text-align: right;\">\n",
       "      <th></th>\n",
       "      <th>userID</th>\n",
       "      <th>age</th>\n",
       "      <th>sessions</th>\n",
       "      <th>time_spent</th>\n",
       "      <th>pages_visited</th>\n",
       "      <th>cart_items</th>\n",
       "      <th>cart_value</th>\n",
       "      <th>checkout_status</th>\n",
       "      <th>device</th>\n",
       "      <th>location</th>\n",
       "    </tr>\n",
       "  </thead>\n",
       "  <tbody>\n",
       "    <tr>\n",
       "      <th>count</th>\n",
       "      <td>5000.000000</td>\n",
       "      <td>5000.000000</td>\n",
       "      <td>5000.000000</td>\n",
       "      <td>5000.000000</td>\n",
       "      <td>5000.000000</td>\n",
       "      <td>5000.000000</td>\n",
       "      <td>5000.000000</td>\n",
       "      <td>5000.000000</td>\n",
       "      <td>4900</td>\n",
       "      <td>4970</td>\n",
       "    </tr>\n",
       "    <tr>\n",
       "      <th>unique</th>\n",
       "      <td>NaN</td>\n",
       "      <td>NaN</td>\n",
       "      <td>NaN</td>\n",
       "      <td>NaN</td>\n",
       "      <td>NaN</td>\n",
       "      <td>NaN</td>\n",
       "      <td>NaN</td>\n",
       "      <td>NaN</td>\n",
       "      <td>3</td>\n",
       "      <td>5</td>\n",
       "    </tr>\n",
       "    <tr>\n",
       "      <th>top</th>\n",
       "      <td>NaN</td>\n",
       "      <td>NaN</td>\n",
       "      <td>NaN</td>\n",
       "      <td>NaN</td>\n",
       "      <td>NaN</td>\n",
       "      <td>NaN</td>\n",
       "      <td>NaN</td>\n",
       "      <td>NaN</td>\n",
       "      <td>Desktop</td>\n",
       "      <td>Location 4</td>\n",
       "    </tr>\n",
       "    <tr>\n",
       "      <th>freq</th>\n",
       "      <td>NaN</td>\n",
       "      <td>NaN</td>\n",
       "      <td>NaN</td>\n",
       "      <td>NaN</td>\n",
       "      <td>NaN</td>\n",
       "      <td>NaN</td>\n",
       "      <td>NaN</td>\n",
       "      <td>NaN</td>\n",
       "      <td>2538</td>\n",
       "      <td>1056</td>\n",
       "    </tr>\n",
       "    <tr>\n",
       "      <th>mean</th>\n",
       "      <td>2500.500000</td>\n",
       "      <td>41.538200</td>\n",
       "      <td>5.027200</td>\n",
       "      <td>25.158496</td>\n",
       "      <td>5.774400</td>\n",
       "      <td>14.966400</td>\n",
       "      <td>149.443146</td>\n",
       "      <td>0.272400</td>\n",
       "      <td>NaN</td>\n",
       "      <td>NaN</td>\n",
       "    </tr>\n",
       "    <tr>\n",
       "      <th>std</th>\n",
       "      <td>1443.520003</td>\n",
       "      <td>14.042734</td>\n",
       "      <td>2.594958</td>\n",
       "      <td>9.825536</td>\n",
       "      <td>2.570842</td>\n",
       "      <td>6.046336</td>\n",
       "      <td>68.711683</td>\n",
       "      <td>0.445239</td>\n",
       "      <td>NaN</td>\n",
       "      <td>NaN</td>\n",
       "    </tr>\n",
       "    <tr>\n",
       "      <th>min</th>\n",
       "      <td>1.000000</td>\n",
       "      <td>18.000000</td>\n",
       "      <td>1.000000</td>\n",
       "      <td>1.000000</td>\n",
       "      <td>1.000000</td>\n",
       "      <td>5.000000</td>\n",
       "      <td>20.410000</td>\n",
       "      <td>0.000000</td>\n",
       "      <td>NaN</td>\n",
       "      <td>NaN</td>\n",
       "    </tr>\n",
       "    <tr>\n",
       "      <th>25%</th>\n",
       "      <td>1250.750000</td>\n",
       "      <td>29.000000</td>\n",
       "      <td>3.000000</td>\n",
       "      <td>18.268862</td>\n",
       "      <td>4.000000</td>\n",
       "      <td>10.000000</td>\n",
       "      <td>92.482500</td>\n",
       "      <td>0.000000</td>\n",
       "      <td>NaN</td>\n",
       "      <td>NaN</td>\n",
       "    </tr>\n",
       "    <tr>\n",
       "      <th>50%</th>\n",
       "      <td>2500.500000</td>\n",
       "      <td>42.000000</td>\n",
       "      <td>5.000000</td>\n",
       "      <td>25.035361</td>\n",
       "      <td>6.000000</td>\n",
       "      <td>15.000000</td>\n",
       "      <td>143.440000</td>\n",
       "      <td>0.000000</td>\n",
       "      <td>NaN</td>\n",
       "      <td>NaN</td>\n",
       "    </tr>\n",
       "    <tr>\n",
       "      <th>75%</th>\n",
       "      <td>3750.250000</td>\n",
       "      <td>54.000000</td>\n",
       "      <td>7.000000</td>\n",
       "      <td>32.000361</td>\n",
       "      <td>8.000000</td>\n",
       "      <td>20.000000</td>\n",
       "      <td>198.380000</td>\n",
       "      <td>1.000000</td>\n",
       "      <td>NaN</td>\n",
       "      <td>NaN</td>\n",
       "    </tr>\n",
       "    <tr>\n",
       "      <th>max</th>\n",
       "      <td>5000.000000</td>\n",
       "      <td>65.000000</td>\n",
       "      <td>9.000000</td>\n",
       "      <td>90.000000</td>\n",
       "      <td>12.000000</td>\n",
       "      <td>25.000000</td>\n",
       "      <td>427.400000</td>\n",
       "      <td>1.000000</td>\n",
       "      <td>NaN</td>\n",
       "      <td>NaN</td>\n",
       "    </tr>\n",
       "  </tbody>\n",
       "</table>\n",
       "</div>"
      ],
      "text/plain": [
       "             userID          age     sessions   time_spent  pages_visited   \n",
       "count   5000.000000  5000.000000  5000.000000  5000.000000    5000.000000  \\\n",
       "unique          NaN          NaN          NaN          NaN            NaN   \n",
       "top             NaN          NaN          NaN          NaN            NaN   \n",
       "freq            NaN          NaN          NaN          NaN            NaN   \n",
       "mean    2500.500000    41.538200     5.027200    25.158496       5.774400   \n",
       "std     1443.520003    14.042734     2.594958     9.825536       2.570842   \n",
       "min        1.000000    18.000000     1.000000     1.000000       1.000000   \n",
       "25%     1250.750000    29.000000     3.000000    18.268862       4.000000   \n",
       "50%     2500.500000    42.000000     5.000000    25.035361       6.000000   \n",
       "75%     3750.250000    54.000000     7.000000    32.000361       8.000000   \n",
       "max     5000.000000    65.000000     9.000000    90.000000      12.000000   \n",
       "\n",
       "         cart_items   cart_value  checkout_status   device    location  \n",
       "count   5000.000000  5000.000000      5000.000000     4900        4970  \n",
       "unique          NaN          NaN              NaN        3           5  \n",
       "top             NaN          NaN              NaN  Desktop  Location 4  \n",
       "freq            NaN          NaN              NaN     2538        1056  \n",
       "mean      14.966400   149.443146         0.272400      NaN         NaN  \n",
       "std        6.046336    68.711683         0.445239      NaN         NaN  \n",
       "min        5.000000    20.410000         0.000000      NaN         NaN  \n",
       "25%       10.000000    92.482500         0.000000      NaN         NaN  \n",
       "50%       15.000000   143.440000         0.000000      NaN         NaN  \n",
       "75%       20.000000   198.380000         1.000000      NaN         NaN  \n",
       "max       25.000000   427.400000         1.000000      NaN         NaN  "
      ]
     },
     "execution_count": 404,
     "metadata": {},
     "output_type": "execute_result"
    }
   ],
   "source": [
    "df.describe(include='all')"
   ]
  },
  {
   "attachments": {},
   "cell_type": "markdown",
   "metadata": {},
   "source": [
    "Since the mean and median are simlier for age, sessions, time spend, and cart_items, means that those are the normal distribution. "
   ]
  },
  {
   "attachments": {},
   "cell_type": "markdown",
   "metadata": {},
   "source": [
    "## Data Cleaning"
   ]
  },
  {
   "cell_type": "code",
   "execution_count": 405,
   "metadata": {},
   "outputs": [
    {
     "data": {
      "text/html": [
       "<div>\n",
       "<style scoped>\n",
       "    .dataframe tbody tr th:only-of-type {\n",
       "        vertical-align: middle;\n",
       "    }\n",
       "\n",
       "    .dataframe tbody tr th {\n",
       "        vertical-align: top;\n",
       "    }\n",
       "\n",
       "    .dataframe thead th {\n",
       "        text-align: right;\n",
       "    }\n",
       "</style>\n",
       "<table border=\"1\" class=\"dataframe\">\n",
       "  <thead>\n",
       "    <tr style=\"text-align: right;\">\n",
       "      <th></th>\n",
       "      <th>userID</th>\n",
       "      <th>age</th>\n",
       "      <th>sessions</th>\n",
       "      <th>time_spent</th>\n",
       "      <th>pages_visited</th>\n",
       "      <th>cart_items</th>\n",
       "      <th>cart_value</th>\n",
       "      <th>checkout_status</th>\n",
       "      <th>device</th>\n",
       "      <th>location</th>\n",
       "    </tr>\n",
       "  </thead>\n",
       "  <tbody>\n",
       "    <tr>\n",
       "      <th>2130</th>\n",
       "      <td>2131</td>\n",
       "      <td>20</td>\n",
       "      <td>5</td>\n",
       "      <td>21.841304</td>\n",
       "      <td>6</td>\n",
       "      <td>19</td>\n",
       "      <td>243.39</td>\n",
       "      <td>0</td>\n",
       "      <td>NaN</td>\n",
       "      <td>NaN</td>\n",
       "    </tr>\n",
       "  </tbody>\n",
       "</table>\n",
       "</div>"
      ],
      "text/plain": [
       "      userID  age  sessions  time_spent  pages_visited  cart_items   \n",
       "2130    2131   20         5   21.841304              6          19  \\\n",
       "\n",
       "      cart_value  checkout_status device location  \n",
       "2130      243.39                0    NaN      NaN  "
      ]
     },
     "execution_count": 405,
     "metadata": {},
     "output_type": "execute_result"
    }
   ],
   "source": [
    "null = df[df['device'].isnull() & df['location'].isnull()]\n",
    "null"
   ]
  },
  {
   "cell_type": "code",
   "execution_count": 406,
   "metadata": {},
   "outputs": [],
   "source": [
    "# let's drop both device and location are null\n",
    "df.drop(null.index, axis=0, inplace=True)"
   ]
  },
  {
   "cell_type": "code",
   "execution_count": 407,
   "metadata": {},
   "outputs": [
    {
     "name": "stdout",
     "output_type": "stream",
     "text": [
      "<class 'pandas.core.frame.DataFrame'>\n",
      "Index: 4999 entries, 0 to 4999\n",
      "Data columns (total 10 columns):\n",
      " #   Column           Non-Null Count  Dtype  \n",
      "---  ------           --------------  -----  \n",
      " 0   userID           4999 non-null   int64  \n",
      " 1   age              4999 non-null   int64  \n",
      " 2   sessions         4999 non-null   int64  \n",
      " 3   time_spent       4999 non-null   float64\n",
      " 4   pages_visited    4999 non-null   int64  \n",
      " 5   cart_items       4999 non-null   int64  \n",
      " 6   cart_value       4999 non-null   float64\n",
      " 7   checkout_status  4999 non-null   int64  \n",
      " 8   device           4900 non-null   object \n",
      " 9   location         4970 non-null   object \n",
      "dtypes: float64(2), int64(6), object(2)\n",
      "memory usage: 429.6+ KB\n"
     ]
    }
   ],
   "source": [
    "df.info()"
   ]
  },
  {
   "cell_type": "code",
   "execution_count": 408,
   "metadata": {},
   "outputs": [],
   "source": [
    "df_test =df.copy()\n",
    "df_test_2 = df.copy()"
   ]
  },
  {
   "cell_type": "code",
   "execution_count": 409,
   "metadata": {},
   "outputs": [],
   "source": [
    "df_test['device'] =df_test['device'].fillna('Other')"
   ]
  },
  {
   "attachments": {},
   "cell_type": "markdown",
   "metadata": {},
   "source": [
    "Since desktop and location 4 are the most in the data. so we could use them or other. let's do analysis first."
   ]
  },
  {
   "cell_type": "code",
   "execution_count": 410,
   "metadata": {},
   "outputs": [
    {
     "data": {
      "text/html": [
       "<div>\n",
       "<style scoped>\n",
       "    .dataframe tbody tr th:only-of-type {\n",
       "        vertical-align: middle;\n",
       "    }\n",
       "\n",
       "    .dataframe tbody tr th {\n",
       "        vertical-align: top;\n",
       "    }\n",
       "\n",
       "    .dataframe thead tr th {\n",
       "        text-align: left;\n",
       "    }\n",
       "\n",
       "    .dataframe thead tr:last-of-type th {\n",
       "        text-align: right;\n",
       "    }\n",
       "</style>\n",
       "<table border=\"1\" class=\"dataframe\">\n",
       "  <thead>\n",
       "    <tr>\n",
       "      <th></th>\n",
       "      <th colspan=\"8\" halign=\"left\">userID</th>\n",
       "      <th colspan=\"2\" halign=\"left\">age</th>\n",
       "      <th>...</th>\n",
       "      <th colspan=\"2\" halign=\"left\">cart_value</th>\n",
       "      <th colspan=\"8\" halign=\"left\">checkout_status</th>\n",
       "    </tr>\n",
       "    <tr>\n",
       "      <th></th>\n",
       "      <th>count</th>\n",
       "      <th>mean</th>\n",
       "      <th>std</th>\n",
       "      <th>min</th>\n",
       "      <th>25%</th>\n",
       "      <th>50%</th>\n",
       "      <th>75%</th>\n",
       "      <th>max</th>\n",
       "      <th>count</th>\n",
       "      <th>mean</th>\n",
       "      <th>...</th>\n",
       "      <th>75%</th>\n",
       "      <th>max</th>\n",
       "      <th>count</th>\n",
       "      <th>mean</th>\n",
       "      <th>std</th>\n",
       "      <th>min</th>\n",
       "      <th>25%</th>\n",
       "      <th>50%</th>\n",
       "      <th>75%</th>\n",
       "      <th>max</th>\n",
       "    </tr>\n",
       "    <tr>\n",
       "      <th>device</th>\n",
       "      <th></th>\n",
       "      <th></th>\n",
       "      <th></th>\n",
       "      <th></th>\n",
       "      <th></th>\n",
       "      <th></th>\n",
       "      <th></th>\n",
       "      <th></th>\n",
       "      <th></th>\n",
       "      <th></th>\n",
       "      <th></th>\n",
       "      <th></th>\n",
       "      <th></th>\n",
       "      <th></th>\n",
       "      <th></th>\n",
       "      <th></th>\n",
       "      <th></th>\n",
       "      <th></th>\n",
       "      <th></th>\n",
       "      <th></th>\n",
       "      <th></th>\n",
       "    </tr>\n",
       "  </thead>\n",
       "  <tbody>\n",
       "    <tr>\n",
       "      <th>Desktop</th>\n",
       "      <td>2538.0</td>\n",
       "      <td>2481.464933</td>\n",
       "      <td>1435.264432</td>\n",
       "      <td>1.0</td>\n",
       "      <td>1260.25</td>\n",
       "      <td>2497.5</td>\n",
       "      <td>3733.75</td>\n",
       "      <td>4999.0</td>\n",
       "      <td>2538.0</td>\n",
       "      <td>41.338849</td>\n",
       "      <td>...</td>\n",
       "      <td>197.2450</td>\n",
       "      <td>427.40</td>\n",
       "      <td>2538.0</td>\n",
       "      <td>0.285264</td>\n",
       "      <td>0.451629</td>\n",
       "      <td>0.0</td>\n",
       "      <td>0.0</td>\n",
       "      <td>0.0</td>\n",
       "      <td>1.0</td>\n",
       "      <td>1.0</td>\n",
       "    </tr>\n",
       "    <tr>\n",
       "      <th>Mobile</th>\n",
       "      <td>1428.0</td>\n",
       "      <td>2518.448880</td>\n",
       "      <td>1457.420581</td>\n",
       "      <td>7.0</td>\n",
       "      <td>1236.75</td>\n",
       "      <td>2512.5</td>\n",
       "      <td>3807.75</td>\n",
       "      <td>4991.0</td>\n",
       "      <td>1428.0</td>\n",
       "      <td>41.724790</td>\n",
       "      <td>...</td>\n",
       "      <td>201.6100</td>\n",
       "      <td>387.98</td>\n",
       "      <td>1428.0</td>\n",
       "      <td>0.264706</td>\n",
       "      <td>0.441331</td>\n",
       "      <td>0.0</td>\n",
       "      <td>0.0</td>\n",
       "      <td>0.0</td>\n",
       "      <td>1.0</td>\n",
       "      <td>1.0</td>\n",
       "    </tr>\n",
       "    <tr>\n",
       "      <th>Other</th>\n",
       "      <td>99.0</td>\n",
       "      <td>2411.656566</td>\n",
       "      <td>1386.399927</td>\n",
       "      <td>80.0</td>\n",
       "      <td>1226.00</td>\n",
       "      <td>2379.0</td>\n",
       "      <td>3541.50</td>\n",
       "      <td>4988.0</td>\n",
       "      <td>99.0</td>\n",
       "      <td>41.282828</td>\n",
       "      <td>...</td>\n",
       "      <td>191.7000</td>\n",
       "      <td>302.48</td>\n",
       "      <td>99.0</td>\n",
       "      <td>0.222222</td>\n",
       "      <td>0.417855</td>\n",
       "      <td>0.0</td>\n",
       "      <td>0.0</td>\n",
       "      <td>0.0</td>\n",
       "      <td>0.0</td>\n",
       "      <td>1.0</td>\n",
       "    </tr>\n",
       "    <tr>\n",
       "      <th>Tablet</th>\n",
       "      <td>934.0</td>\n",
       "      <td>2534.595289</td>\n",
       "      <td>1452.234322</td>\n",
       "      <td>5.0</td>\n",
       "      <td>1271.25</td>\n",
       "      <td>2513.0</td>\n",
       "      <td>3753.25</td>\n",
       "      <td>5000.0</td>\n",
       "      <td>934.0</td>\n",
       "      <td>41.844754</td>\n",
       "      <td>...</td>\n",
       "      <td>197.7025</td>\n",
       "      <td>377.98</td>\n",
       "      <td>934.0</td>\n",
       "      <td>0.254818</td>\n",
       "      <td>0.435992</td>\n",
       "      <td>0.0</td>\n",
       "      <td>0.0</td>\n",
       "      <td>0.0</td>\n",
       "      <td>1.0</td>\n",
       "      <td>1.0</td>\n",
       "    </tr>\n",
       "  </tbody>\n",
       "</table>\n",
       "<p>4 rows × 64 columns</p>\n",
       "</div>"
      ],
      "text/plain": [
       "         userID                                                             \n",
       "          count         mean          std   min      25%     50%      75%   \n",
       "device                                                                      \n",
       "Desktop  2538.0  2481.464933  1435.264432   1.0  1260.25  2497.5  3733.75  \\\n",
       "Mobile   1428.0  2518.448880  1457.420581   7.0  1236.75  2512.5  3807.75   \n",
       "Other      99.0  2411.656566  1386.399927  80.0  1226.00  2379.0  3541.50   \n",
       "Tablet    934.0  2534.595289  1452.234322   5.0  1271.25  2513.0  3753.25   \n",
       "\n",
       "                    age             ... cart_value         checkout_status   \n",
       "            max   count       mean  ...        75%     max           count   \n",
       "device                              ...                                      \n",
       "Desktop  4999.0  2538.0  41.338849  ...   197.2450  427.40          2538.0  \\\n",
       "Mobile   4991.0  1428.0  41.724790  ...   201.6100  387.98          1428.0   \n",
       "Other    4988.0    99.0  41.282828  ...   191.7000  302.48            99.0   \n",
       "Tablet   5000.0   934.0  41.844754  ...   197.7025  377.98           934.0   \n",
       "\n",
       "                                                      \n",
       "             mean       std  min  25%  50%  75%  max  \n",
       "device                                                \n",
       "Desktop  0.285264  0.451629  0.0  0.0  0.0  1.0  1.0  \n",
       "Mobile   0.264706  0.441331  0.0  0.0  0.0  1.0  1.0  \n",
       "Other    0.222222  0.417855  0.0  0.0  0.0  0.0  1.0  \n",
       "Tablet   0.254818  0.435992  0.0  0.0  0.0  1.0  1.0  \n",
       "\n",
       "[4 rows x 64 columns]"
      ]
     },
     "execution_count": 410,
     "metadata": {},
     "output_type": "execute_result"
    }
   ],
   "source": [
    "df_test.groupby('device').describe()"
   ]
  },
  {
   "cell_type": "code",
   "execution_count": 411,
   "metadata": {},
   "outputs": [
    {
     "data": {
      "text/html": [
       "<div>\n",
       "<style scoped>\n",
       "    .dataframe tbody tr th:only-of-type {\n",
       "        vertical-align: middle;\n",
       "    }\n",
       "\n",
       "    .dataframe tbody tr th {\n",
       "        vertical-align: top;\n",
       "    }\n",
       "\n",
       "    .dataframe thead tr th {\n",
       "        text-align: left;\n",
       "    }\n",
       "\n",
       "    .dataframe thead tr:last-of-type th {\n",
       "        text-align: right;\n",
       "    }\n",
       "</style>\n",
       "<table border=\"1\" class=\"dataframe\">\n",
       "  <thead>\n",
       "    <tr>\n",
       "      <th></th>\n",
       "      <th colspan=\"8\" halign=\"left\">userID</th>\n",
       "      <th colspan=\"2\" halign=\"left\">age</th>\n",
       "      <th>...</th>\n",
       "      <th colspan=\"2\" halign=\"left\">cart_value</th>\n",
       "      <th colspan=\"8\" halign=\"left\">checkout_status</th>\n",
       "    </tr>\n",
       "    <tr>\n",
       "      <th></th>\n",
       "      <th>count</th>\n",
       "      <th>mean</th>\n",
       "      <th>std</th>\n",
       "      <th>min</th>\n",
       "      <th>25%</th>\n",
       "      <th>50%</th>\n",
       "      <th>75%</th>\n",
       "      <th>max</th>\n",
       "      <th>count</th>\n",
       "      <th>mean</th>\n",
       "      <th>...</th>\n",
       "      <th>75%</th>\n",
       "      <th>max</th>\n",
       "      <th>count</th>\n",
       "      <th>mean</th>\n",
       "      <th>std</th>\n",
       "      <th>min</th>\n",
       "      <th>25%</th>\n",
       "      <th>50%</th>\n",
       "      <th>75%</th>\n",
       "      <th>max</th>\n",
       "    </tr>\n",
       "    <tr>\n",
       "      <th>device</th>\n",
       "      <th></th>\n",
       "      <th></th>\n",
       "      <th></th>\n",
       "      <th></th>\n",
       "      <th></th>\n",
       "      <th></th>\n",
       "      <th></th>\n",
       "      <th></th>\n",
       "      <th></th>\n",
       "      <th></th>\n",
       "      <th></th>\n",
       "      <th></th>\n",
       "      <th></th>\n",
       "      <th></th>\n",
       "      <th></th>\n",
       "      <th></th>\n",
       "      <th></th>\n",
       "      <th></th>\n",
       "      <th></th>\n",
       "      <th></th>\n",
       "      <th></th>\n",
       "    </tr>\n",
       "  </thead>\n",
       "  <tbody>\n",
       "    <tr>\n",
       "      <th>Desktop</th>\n",
       "      <td>2637.0</td>\n",
       "      <td>2478.844141</td>\n",
       "      <td>1433.266427</td>\n",
       "      <td>1.0</td>\n",
       "      <td>1259.00</td>\n",
       "      <td>2495.0</td>\n",
       "      <td>3721.00</td>\n",
       "      <td>4999.0</td>\n",
       "      <td>2637.0</td>\n",
       "      <td>41.336746</td>\n",
       "      <td>...</td>\n",
       "      <td>196.9500</td>\n",
       "      <td>427.40</td>\n",
       "      <td>2637.0</td>\n",
       "      <td>0.282897</td>\n",
       "      <td>0.450492</td>\n",
       "      <td>0.0</td>\n",
       "      <td>0.0</td>\n",
       "      <td>0.0</td>\n",
       "      <td>1.0</td>\n",
       "      <td>1.0</td>\n",
       "    </tr>\n",
       "    <tr>\n",
       "      <th>Mobile</th>\n",
       "      <td>1428.0</td>\n",
       "      <td>2518.448880</td>\n",
       "      <td>1457.420581</td>\n",
       "      <td>7.0</td>\n",
       "      <td>1236.75</td>\n",
       "      <td>2512.5</td>\n",
       "      <td>3807.75</td>\n",
       "      <td>4991.0</td>\n",
       "      <td>1428.0</td>\n",
       "      <td>41.724790</td>\n",
       "      <td>...</td>\n",
       "      <td>201.6100</td>\n",
       "      <td>387.98</td>\n",
       "      <td>1428.0</td>\n",
       "      <td>0.264706</td>\n",
       "      <td>0.441331</td>\n",
       "      <td>0.0</td>\n",
       "      <td>0.0</td>\n",
       "      <td>0.0</td>\n",
       "      <td>1.0</td>\n",
       "      <td>1.0</td>\n",
       "    </tr>\n",
       "    <tr>\n",
       "      <th>Tablet</th>\n",
       "      <td>934.0</td>\n",
       "      <td>2534.595289</td>\n",
       "      <td>1452.234322</td>\n",
       "      <td>5.0</td>\n",
       "      <td>1271.25</td>\n",
       "      <td>2513.0</td>\n",
       "      <td>3753.25</td>\n",
       "      <td>5000.0</td>\n",
       "      <td>934.0</td>\n",
       "      <td>41.844754</td>\n",
       "      <td>...</td>\n",
       "      <td>197.7025</td>\n",
       "      <td>377.98</td>\n",
       "      <td>934.0</td>\n",
       "      <td>0.254818</td>\n",
       "      <td>0.435992</td>\n",
       "      <td>0.0</td>\n",
       "      <td>0.0</td>\n",
       "      <td>0.0</td>\n",
       "      <td>1.0</td>\n",
       "      <td>1.0</td>\n",
       "    </tr>\n",
       "  </tbody>\n",
       "</table>\n",
       "<p>3 rows × 64 columns</p>\n",
       "</div>"
      ],
      "text/plain": [
       "         userID                                                            \n",
       "          count         mean          std  min      25%     50%      75%   \n",
       "device                                                                     \n",
       "Desktop  2637.0  2478.844141  1433.266427  1.0  1259.00  2495.0  3721.00  \\\n",
       "Mobile   1428.0  2518.448880  1457.420581  7.0  1236.75  2512.5  3807.75   \n",
       "Tablet    934.0  2534.595289  1452.234322  5.0  1271.25  2513.0  3753.25   \n",
       "\n",
       "                    age             ... cart_value         checkout_status   \n",
       "            max   count       mean  ...        75%     max           count   \n",
       "device                              ...                                      \n",
       "Desktop  4999.0  2637.0  41.336746  ...   196.9500  427.40          2637.0  \\\n",
       "Mobile   4991.0  1428.0  41.724790  ...   201.6100  387.98          1428.0   \n",
       "Tablet   5000.0   934.0  41.844754  ...   197.7025  377.98           934.0   \n",
       "\n",
       "                                                      \n",
       "             mean       std  min  25%  50%  75%  max  \n",
       "device                                                \n",
       "Desktop  0.282897  0.450492  0.0  0.0  0.0  1.0  1.0  \n",
       "Mobile   0.264706  0.441331  0.0  0.0  0.0  1.0  1.0  \n",
       "Tablet   0.254818  0.435992  0.0  0.0  0.0  1.0  1.0  \n",
       "\n",
       "[3 rows x 64 columns]"
      ]
     },
     "execution_count": 411,
     "metadata": {},
     "output_type": "execute_result"
    }
   ],
   "source": [
    "df_test_2['device'] = df_test_2['device'].fillna('Desktop')\n",
    "df_test_2.groupby('device').describe()"
   ]
  },
  {
   "attachments": {},
   "cell_type": "markdown",
   "metadata": {},
   "source": [
    "If we assign these values to Desktop, looks better. The mean and median did not changed a lot. looks better if we create a new 'other' catagory."
   ]
  },
  {
   "cell_type": "code",
   "execution_count": 412,
   "metadata": {},
   "outputs": [],
   "source": [
    "\n",
    "df['device'] = df['device'].fillna('Desktop')"
   ]
  },
  {
   "attachments": {},
   "cell_type": "markdown",
   "metadata": {},
   "source": [
    "Let's do same for location"
   ]
  },
  {
   "cell_type": "code",
   "execution_count": 413,
   "metadata": {},
   "outputs": [],
   "source": [
    "df_test['location'] = df_test['location'].fillna('other')\n",
    "df_test_2['location'] = df_test_2['location'].fillna('Location 4')"
   ]
  },
  {
   "cell_type": "code",
   "execution_count": 414,
   "metadata": {},
   "outputs": [
    {
     "data": {
      "text/html": [
       "<div>\n",
       "<style scoped>\n",
       "    .dataframe tbody tr th:only-of-type {\n",
       "        vertical-align: middle;\n",
       "    }\n",
       "\n",
       "    .dataframe tbody tr th {\n",
       "        vertical-align: top;\n",
       "    }\n",
       "\n",
       "    .dataframe thead tr th {\n",
       "        text-align: left;\n",
       "    }\n",
       "\n",
       "    .dataframe thead tr:last-of-type th {\n",
       "        text-align: right;\n",
       "    }\n",
       "</style>\n",
       "<table border=\"1\" class=\"dataframe\">\n",
       "  <thead>\n",
       "    <tr>\n",
       "      <th></th>\n",
       "      <th colspan=\"8\" halign=\"left\">userID</th>\n",
       "      <th colspan=\"2\" halign=\"left\">age</th>\n",
       "      <th>...</th>\n",
       "      <th colspan=\"2\" halign=\"left\">cart_value</th>\n",
       "      <th colspan=\"8\" halign=\"left\">checkout_status</th>\n",
       "    </tr>\n",
       "    <tr>\n",
       "      <th></th>\n",
       "      <th>count</th>\n",
       "      <th>mean</th>\n",
       "      <th>std</th>\n",
       "      <th>min</th>\n",
       "      <th>25%</th>\n",
       "      <th>50%</th>\n",
       "      <th>75%</th>\n",
       "      <th>max</th>\n",
       "      <th>count</th>\n",
       "      <th>mean</th>\n",
       "      <th>...</th>\n",
       "      <th>75%</th>\n",
       "      <th>max</th>\n",
       "      <th>count</th>\n",
       "      <th>mean</th>\n",
       "      <th>std</th>\n",
       "      <th>min</th>\n",
       "      <th>25%</th>\n",
       "      <th>50%</th>\n",
       "      <th>75%</th>\n",
       "      <th>max</th>\n",
       "    </tr>\n",
       "    <tr>\n",
       "      <th>location</th>\n",
       "      <th></th>\n",
       "      <th></th>\n",
       "      <th></th>\n",
       "      <th></th>\n",
       "      <th></th>\n",
       "      <th></th>\n",
       "      <th></th>\n",
       "      <th></th>\n",
       "      <th></th>\n",
       "      <th></th>\n",
       "      <th></th>\n",
       "      <th></th>\n",
       "      <th></th>\n",
       "      <th></th>\n",
       "      <th></th>\n",
       "      <th></th>\n",
       "      <th></th>\n",
       "      <th></th>\n",
       "      <th></th>\n",
       "      <th></th>\n",
       "      <th></th>\n",
       "    </tr>\n",
       "  </thead>\n",
       "  <tbody>\n",
       "    <tr>\n",
       "      <th>Location 1</th>\n",
       "      <td>979.0</td>\n",
       "      <td>2428.888662</td>\n",
       "      <td>1460.439111</td>\n",
       "      <td>1.0</td>\n",
       "      <td>1115.00</td>\n",
       "      <td>2431.0</td>\n",
       "      <td>3683.5</td>\n",
       "      <td>4995.0</td>\n",
       "      <td>979.0</td>\n",
       "      <td>42.291113</td>\n",
       "      <td>...</td>\n",
       "      <td>199.9500</td>\n",
       "      <td>394.77</td>\n",
       "      <td>979.0</td>\n",
       "      <td>0.282942</td>\n",
       "      <td>0.450659</td>\n",
       "      <td>0.0</td>\n",
       "      <td>0.0</td>\n",
       "      <td>0.0</td>\n",
       "      <td>1.0</td>\n",
       "      <td>1.0</td>\n",
       "    </tr>\n",
       "    <tr>\n",
       "      <th>Location 2</th>\n",
       "      <td>950.0</td>\n",
       "      <td>2495.070526</td>\n",
       "      <td>1413.792983</td>\n",
       "      <td>4.0</td>\n",
       "      <td>1335.50</td>\n",
       "      <td>2517.0</td>\n",
       "      <td>3674.0</td>\n",
       "      <td>4997.0</td>\n",
       "      <td>950.0</td>\n",
       "      <td>41.648421</td>\n",
       "      <td>...</td>\n",
       "      <td>198.9475</td>\n",
       "      <td>357.77</td>\n",
       "      <td>950.0</td>\n",
       "      <td>0.266316</td>\n",
       "      <td>0.442264</td>\n",
       "      <td>0.0</td>\n",
       "      <td>0.0</td>\n",
       "      <td>0.0</td>\n",
       "      <td>1.0</td>\n",
       "      <td>1.0</td>\n",
       "    </tr>\n",
       "    <tr>\n",
       "      <th>Location 3</th>\n",
       "      <td>1014.0</td>\n",
       "      <td>2477.388560</td>\n",
       "      <td>1437.144060</td>\n",
       "      <td>2.0</td>\n",
       "      <td>1248.25</td>\n",
       "      <td>2378.5</td>\n",
       "      <td>3712.5</td>\n",
       "      <td>5000.0</td>\n",
       "      <td>1014.0</td>\n",
       "      <td>41.763314</td>\n",
       "      <td>...</td>\n",
       "      <td>195.4400</td>\n",
       "      <td>427.40</td>\n",
       "      <td>1014.0</td>\n",
       "      <td>0.261341</td>\n",
       "      <td>0.439582</td>\n",
       "      <td>0.0</td>\n",
       "      <td>0.0</td>\n",
       "      <td>0.0</td>\n",
       "      <td>1.0</td>\n",
       "      <td>1.0</td>\n",
       "    </tr>\n",
       "    <tr>\n",
       "      <th>Location 4</th>\n",
       "      <td>1056.0</td>\n",
       "      <td>2508.631629</td>\n",
       "      <td>1470.328379</td>\n",
       "      <td>3.0</td>\n",
       "      <td>1219.50</td>\n",
       "      <td>2517.5</td>\n",
       "      <td>3796.0</td>\n",
       "      <td>4998.0</td>\n",
       "      <td>1056.0</td>\n",
       "      <td>40.892992</td>\n",
       "      <td>...</td>\n",
       "      <td>199.5425</td>\n",
       "      <td>353.80</td>\n",
       "      <td>1056.0</td>\n",
       "      <td>0.284091</td>\n",
       "      <td>0.451194</td>\n",
       "      <td>0.0</td>\n",
       "      <td>0.0</td>\n",
       "      <td>0.0</td>\n",
       "      <td>1.0</td>\n",
       "      <td>1.0</td>\n",
       "    </tr>\n",
       "    <tr>\n",
       "      <th>Location 5</th>\n",
       "      <td>971.0</td>\n",
       "      <td>2598.049434</td>\n",
       "      <td>1434.875326</td>\n",
       "      <td>6.0</td>\n",
       "      <td>1352.50</td>\n",
       "      <td>2664.0</td>\n",
       "      <td>3849.0</td>\n",
       "      <td>4999.0</td>\n",
       "      <td>971.0</td>\n",
       "      <td>41.085479</td>\n",
       "      <td>...</td>\n",
       "      <td>197.7800</td>\n",
       "      <td>359.00</td>\n",
       "      <td>971.0</td>\n",
       "      <td>0.266735</td>\n",
       "      <td>0.442481</td>\n",
       "      <td>0.0</td>\n",
       "      <td>0.0</td>\n",
       "      <td>0.0</td>\n",
       "      <td>1.0</td>\n",
       "      <td>1.0</td>\n",
       "    </tr>\n",
       "    <tr>\n",
       "      <th>other</th>\n",
       "      <td>29.0</td>\n",
       "      <td>2354.379310</td>\n",
       "      <td>1310.371523</td>\n",
       "      <td>60.0</td>\n",
       "      <td>1460.00</td>\n",
       "      <td>2352.0</td>\n",
       "      <td>3325.0</td>\n",
       "      <td>4951.0</td>\n",
       "      <td>29.0</td>\n",
       "      <td>44.034483</td>\n",
       "      <td>...</td>\n",
       "      <td>195.4400</td>\n",
       "      <td>237.64</td>\n",
       "      <td>29.0</td>\n",
       "      <td>0.275862</td>\n",
       "      <td>0.454859</td>\n",
       "      <td>0.0</td>\n",
       "      <td>0.0</td>\n",
       "      <td>0.0</td>\n",
       "      <td>1.0</td>\n",
       "      <td>1.0</td>\n",
       "    </tr>\n",
       "  </tbody>\n",
       "</table>\n",
       "<p>6 rows × 64 columns</p>\n",
       "</div>"
      ],
      "text/plain": [
       "            userID                                                            \n",
       "             count         mean          std   min      25%     50%     75%   \n",
       "location                                                                      \n",
       "Location 1   979.0  2428.888662  1460.439111   1.0  1115.00  2431.0  3683.5  \\\n",
       "Location 2   950.0  2495.070526  1413.792983   4.0  1335.50  2517.0  3674.0   \n",
       "Location 3  1014.0  2477.388560  1437.144060   2.0  1248.25  2378.5  3712.5   \n",
       "Location 4  1056.0  2508.631629  1470.328379   3.0  1219.50  2517.5  3796.0   \n",
       "Location 5   971.0  2598.049434  1434.875326   6.0  1352.50  2664.0  3849.0   \n",
       "other         29.0  2354.379310  1310.371523  60.0  1460.00  2352.0  3325.0   \n",
       "\n",
       "                       age             ... cart_value         checkout_status   \n",
       "               max   count       mean  ...        75%     max           count   \n",
       "location                               ...                                      \n",
       "Location 1  4995.0   979.0  42.291113  ...   199.9500  394.77           979.0  \\\n",
       "Location 2  4997.0   950.0  41.648421  ...   198.9475  357.77           950.0   \n",
       "Location 3  5000.0  1014.0  41.763314  ...   195.4400  427.40          1014.0   \n",
       "Location 4  4998.0  1056.0  40.892992  ...   199.5425  353.80          1056.0   \n",
       "Location 5  4999.0   971.0  41.085479  ...   197.7800  359.00           971.0   \n",
       "other       4951.0    29.0  44.034483  ...   195.4400  237.64            29.0   \n",
       "\n",
       "                                                         \n",
       "                mean       std  min  25%  50%  75%  max  \n",
       "location                                                 \n",
       "Location 1  0.282942  0.450659  0.0  0.0  0.0  1.0  1.0  \n",
       "Location 2  0.266316  0.442264  0.0  0.0  0.0  1.0  1.0  \n",
       "Location 3  0.261341  0.439582  0.0  0.0  0.0  1.0  1.0  \n",
       "Location 4  0.284091  0.451194  0.0  0.0  0.0  1.0  1.0  \n",
       "Location 5  0.266735  0.442481  0.0  0.0  0.0  1.0  1.0  \n",
       "other       0.275862  0.454859  0.0  0.0  0.0  1.0  1.0  \n",
       "\n",
       "[6 rows x 64 columns]"
      ]
     },
     "execution_count": 414,
     "metadata": {},
     "output_type": "execute_result"
    }
   ],
   "source": [
    "df_test.groupby('location').describe()"
   ]
  },
  {
   "cell_type": "code",
   "execution_count": 415,
   "metadata": {},
   "outputs": [
    {
     "data": {
      "text/html": [
       "<div>\n",
       "<style scoped>\n",
       "    .dataframe tbody tr th:only-of-type {\n",
       "        vertical-align: middle;\n",
       "    }\n",
       "\n",
       "    .dataframe tbody tr th {\n",
       "        vertical-align: top;\n",
       "    }\n",
       "\n",
       "    .dataframe thead tr th {\n",
       "        text-align: left;\n",
       "    }\n",
       "\n",
       "    .dataframe thead tr:last-of-type th {\n",
       "        text-align: right;\n",
       "    }\n",
       "</style>\n",
       "<table border=\"1\" class=\"dataframe\">\n",
       "  <thead>\n",
       "    <tr>\n",
       "      <th></th>\n",
       "      <th colspan=\"8\" halign=\"left\">userID</th>\n",
       "      <th colspan=\"2\" halign=\"left\">age</th>\n",
       "      <th>...</th>\n",
       "      <th colspan=\"2\" halign=\"left\">cart_value</th>\n",
       "      <th colspan=\"8\" halign=\"left\">checkout_status</th>\n",
       "    </tr>\n",
       "    <tr>\n",
       "      <th></th>\n",
       "      <th>count</th>\n",
       "      <th>mean</th>\n",
       "      <th>std</th>\n",
       "      <th>min</th>\n",
       "      <th>25%</th>\n",
       "      <th>50%</th>\n",
       "      <th>75%</th>\n",
       "      <th>max</th>\n",
       "      <th>count</th>\n",
       "      <th>mean</th>\n",
       "      <th>...</th>\n",
       "      <th>75%</th>\n",
       "      <th>max</th>\n",
       "      <th>count</th>\n",
       "      <th>mean</th>\n",
       "      <th>std</th>\n",
       "      <th>min</th>\n",
       "      <th>25%</th>\n",
       "      <th>50%</th>\n",
       "      <th>75%</th>\n",
       "      <th>max</th>\n",
       "    </tr>\n",
       "    <tr>\n",
       "      <th>location</th>\n",
       "      <th></th>\n",
       "      <th></th>\n",
       "      <th></th>\n",
       "      <th></th>\n",
       "      <th></th>\n",
       "      <th></th>\n",
       "      <th></th>\n",
       "      <th></th>\n",
       "      <th></th>\n",
       "      <th></th>\n",
       "      <th></th>\n",
       "      <th></th>\n",
       "      <th></th>\n",
       "      <th></th>\n",
       "      <th></th>\n",
       "      <th></th>\n",
       "      <th></th>\n",
       "      <th></th>\n",
       "      <th></th>\n",
       "      <th></th>\n",
       "      <th></th>\n",
       "    </tr>\n",
       "  </thead>\n",
       "  <tbody>\n",
       "    <tr>\n",
       "      <th>Location 1</th>\n",
       "      <td>979.0</td>\n",
       "      <td>2428.888662</td>\n",
       "      <td>1460.439111</td>\n",
       "      <td>1.0</td>\n",
       "      <td>1115.00</td>\n",
       "      <td>2431.0</td>\n",
       "      <td>3683.5</td>\n",
       "      <td>4995.0</td>\n",
       "      <td>979.0</td>\n",
       "      <td>42.291113</td>\n",
       "      <td>...</td>\n",
       "      <td>199.9500</td>\n",
       "      <td>394.77</td>\n",
       "      <td>979.0</td>\n",
       "      <td>0.282942</td>\n",
       "      <td>0.450659</td>\n",
       "      <td>0.0</td>\n",
       "      <td>0.0</td>\n",
       "      <td>0.0</td>\n",
       "      <td>1.0</td>\n",
       "      <td>1.0</td>\n",
       "    </tr>\n",
       "    <tr>\n",
       "      <th>Location 2</th>\n",
       "      <td>950.0</td>\n",
       "      <td>2495.070526</td>\n",
       "      <td>1413.792983</td>\n",
       "      <td>4.0</td>\n",
       "      <td>1335.50</td>\n",
       "      <td>2517.0</td>\n",
       "      <td>3674.0</td>\n",
       "      <td>4997.0</td>\n",
       "      <td>950.0</td>\n",
       "      <td>41.648421</td>\n",
       "      <td>...</td>\n",
       "      <td>198.9475</td>\n",
       "      <td>357.77</td>\n",
       "      <td>950.0</td>\n",
       "      <td>0.266316</td>\n",
       "      <td>0.442264</td>\n",
       "      <td>0.0</td>\n",
       "      <td>0.0</td>\n",
       "      <td>0.0</td>\n",
       "      <td>1.0</td>\n",
       "      <td>1.0</td>\n",
       "    </tr>\n",
       "    <tr>\n",
       "      <th>Location 3</th>\n",
       "      <td>1014.0</td>\n",
       "      <td>2477.388560</td>\n",
       "      <td>1437.144060</td>\n",
       "      <td>2.0</td>\n",
       "      <td>1248.25</td>\n",
       "      <td>2378.5</td>\n",
       "      <td>3712.5</td>\n",
       "      <td>5000.0</td>\n",
       "      <td>1014.0</td>\n",
       "      <td>41.763314</td>\n",
       "      <td>...</td>\n",
       "      <td>195.4400</td>\n",
       "      <td>427.40</td>\n",
       "      <td>1014.0</td>\n",
       "      <td>0.261341</td>\n",
       "      <td>0.439582</td>\n",
       "      <td>0.0</td>\n",
       "      <td>0.0</td>\n",
       "      <td>0.0</td>\n",
       "      <td>1.0</td>\n",
       "      <td>1.0</td>\n",
       "    </tr>\n",
       "    <tr>\n",
       "      <th>Location 4</th>\n",
       "      <td>1085.0</td>\n",
       "      <td>2504.508756</td>\n",
       "      <td>1465.947354</td>\n",
       "      <td>3.0</td>\n",
       "      <td>1221.00</td>\n",
       "      <td>2514.0</td>\n",
       "      <td>3783.0</td>\n",
       "      <td>4998.0</td>\n",
       "      <td>1085.0</td>\n",
       "      <td>40.976959</td>\n",
       "      <td>...</td>\n",
       "      <td>199.4300</td>\n",
       "      <td>353.80</td>\n",
       "      <td>1085.0</td>\n",
       "      <td>0.283871</td>\n",
       "      <td>0.451083</td>\n",
       "      <td>0.0</td>\n",
       "      <td>0.0</td>\n",
       "      <td>0.0</td>\n",
       "      <td>1.0</td>\n",
       "      <td>1.0</td>\n",
       "    </tr>\n",
       "    <tr>\n",
       "      <th>Location 5</th>\n",
       "      <td>971.0</td>\n",
       "      <td>2598.049434</td>\n",
       "      <td>1434.875326</td>\n",
       "      <td>6.0</td>\n",
       "      <td>1352.50</td>\n",
       "      <td>2664.0</td>\n",
       "      <td>3849.0</td>\n",
       "      <td>4999.0</td>\n",
       "      <td>971.0</td>\n",
       "      <td>41.085479</td>\n",
       "      <td>...</td>\n",
       "      <td>197.7800</td>\n",
       "      <td>359.00</td>\n",
       "      <td>971.0</td>\n",
       "      <td>0.266735</td>\n",
       "      <td>0.442481</td>\n",
       "      <td>0.0</td>\n",
       "      <td>0.0</td>\n",
       "      <td>0.0</td>\n",
       "      <td>1.0</td>\n",
       "      <td>1.0</td>\n",
       "    </tr>\n",
       "  </tbody>\n",
       "</table>\n",
       "<p>5 rows × 64 columns</p>\n",
       "</div>"
      ],
      "text/plain": [
       "            userID                                                           \n",
       "             count         mean          std  min      25%     50%     75%   \n",
       "location                                                                     \n",
       "Location 1   979.0  2428.888662  1460.439111  1.0  1115.00  2431.0  3683.5  \\\n",
       "Location 2   950.0  2495.070526  1413.792983  4.0  1335.50  2517.0  3674.0   \n",
       "Location 3  1014.0  2477.388560  1437.144060  2.0  1248.25  2378.5  3712.5   \n",
       "Location 4  1085.0  2504.508756  1465.947354  3.0  1221.00  2514.0  3783.0   \n",
       "Location 5   971.0  2598.049434  1434.875326  6.0  1352.50  2664.0  3849.0   \n",
       "\n",
       "                       age             ... cart_value         checkout_status   \n",
       "               max   count       mean  ...        75%     max           count   \n",
       "location                               ...                                      \n",
       "Location 1  4995.0   979.0  42.291113  ...   199.9500  394.77           979.0  \\\n",
       "Location 2  4997.0   950.0  41.648421  ...   198.9475  357.77           950.0   \n",
       "Location 3  5000.0  1014.0  41.763314  ...   195.4400  427.40          1014.0   \n",
       "Location 4  4998.0  1085.0  40.976959  ...   199.4300  353.80          1085.0   \n",
       "Location 5  4999.0   971.0  41.085479  ...   197.7800  359.00           971.0   \n",
       "\n",
       "                                                         \n",
       "                mean       std  min  25%  50%  75%  max  \n",
       "location                                                 \n",
       "Location 1  0.282942  0.450659  0.0  0.0  0.0  1.0  1.0  \n",
       "Location 2  0.266316  0.442264  0.0  0.0  0.0  1.0  1.0  \n",
       "Location 3  0.261341  0.439582  0.0  0.0  0.0  1.0  1.0  \n",
       "Location 4  0.283871  0.451083  0.0  0.0  0.0  1.0  1.0  \n",
       "Location 5  0.266735  0.442481  0.0  0.0  0.0  1.0  1.0  \n",
       "\n",
       "[5 rows x 64 columns]"
      ]
     },
     "execution_count": 415,
     "metadata": {},
     "output_type": "execute_result"
    }
   ],
   "source": [
    "df_test_2.groupby('location').describe()"
   ]
  },
  {
   "attachments": {},
   "cell_type": "markdown",
   "metadata": {},
   "source": [
    "Put thoses data on location 4 looks better since mean and median did not change a lot. if we put in other, it create a new catagory but only with 29 number.  "
   ]
  },
  {
   "cell_type": "code",
   "execution_count": 416,
   "metadata": {},
   "outputs": [],
   "source": [
    "df['location'] = df['location'].fillna('Location 4')"
   ]
  },
  {
   "cell_type": "code",
   "execution_count": 417,
   "metadata": {},
   "outputs": [
    {
     "name": "stdout",
     "output_type": "stream",
     "text": [
      "<class 'pandas.core.frame.DataFrame'>\n",
      "Index: 4999 entries, 0 to 4999\n",
      "Data columns (total 10 columns):\n",
      " #   Column           Non-Null Count  Dtype  \n",
      "---  ------           --------------  -----  \n",
      " 0   userID           4999 non-null   int64  \n",
      " 1   age              4999 non-null   int64  \n",
      " 2   sessions         4999 non-null   int64  \n",
      " 3   time_spent       4999 non-null   float64\n",
      " 4   pages_visited    4999 non-null   int64  \n",
      " 5   cart_items       4999 non-null   int64  \n",
      " 6   cart_value       4999 non-null   float64\n",
      " 7   checkout_status  4999 non-null   int64  \n",
      " 8   device           4999 non-null   object \n",
      " 9   location         4999 non-null   object \n",
      "dtypes: float64(2), int64(6), object(2)\n",
      "memory usage: 429.6+ KB\n"
     ]
    }
   ],
   "source": [
    "df.info()"
   ]
  },
  {
   "attachments": {},
   "cell_type": "markdown",
   "metadata": {},
   "source": [
    "now, check for the outliers!"
   ]
  },
  {
   "cell_type": "code",
   "execution_count": 418,
   "metadata": {},
   "outputs": [
    {
     "data": {
      "text/plain": [
       "<Axes: ylabel='time_spent'>"
      ]
     },
     "execution_count": 418,
     "metadata": {},
     "output_type": "execute_result"
    },
    {
     "data": {
      "image/png": "[encoded data removed]",
      "text/plain": [
       "<Figure size 640x480 with 1 Axes>"
      ]
     },
     "metadata": {},
     "output_type": "display_data"
    }
   ],
   "source": [
    "sns.boxplot(data = df, y = 'time_spent')\n"
   ]
  },
  {
   "cell_type": "code",
   "execution_count": 419,
   "metadata": {},
   "outputs": [
    {
     "data": {
      "text/plain": [
       "2494    90.0\n",
       "3957    90.0\n",
       "284     90.0\n",
       "2833    90.0\n",
       "1276    45.0\n",
       "890     45.0\n",
       "92      45.0\n",
       "3141    45.0\n",
       "2621    45.0\n",
       "3139    45.0\n",
       "3590    45.0\n",
       "4422    45.0\n",
       "2628    45.0\n",
       "3685    45.0\n",
       "907     45.0\n",
       "461     45.0\n",
       "102     45.0\n",
       "2635    45.0\n",
       "217     45.0\n",
       "1329    45.0\n",
       "Name: time_spent, dtype: float64"
      ]
     },
     "execution_count": 419,
     "metadata": {},
     "output_type": "execute_result"
    }
   ],
   "source": [
    "df['time_spent'].sort_values(ascending=False).head(20)"
   ]
  },
  {
   "cell_type": "code",
   "execution_count": 420,
   "metadata": {},
   "outputs": [
    {
     "data": {
      "text/plain": [
       "904     1.0\n",
       "4157    1.0\n",
       "714     1.0\n",
       "3244    1.0\n",
       "3874    1.0\n",
       "203     1.0\n",
       "3535    5.0\n",
       "3353    5.0\n",
       "281     5.0\n",
       "3531    5.0\n",
       "2450    5.0\n",
       "3142    5.0\n",
       "1782    5.0\n",
       "438     5.0\n",
       "4538    5.0\n",
       "4540    5.0\n",
       "53      5.0\n",
       "4475    5.0\n",
       "3548    5.0\n",
       "3352    5.0\n",
       "Name: time_spent, dtype: float64"
      ]
     },
     "execution_count": 420,
     "metadata": {},
     "output_type": "execute_result"
    }
   ],
   "source": [
    "df['time_spent'].sort_values(ascending=True).head(20)"
   ]
  },
  {
   "cell_type": "code",
   "execution_count": 421,
   "metadata": {},
   "outputs": [
    {
     "data": {
      "text/plain": [
       "Index([  13,   29,   52,   92,  102,  217,  259,  284,  305,  347,\n",
       "       ...\n",
       "       4886, 4890, 4932, 4947, 4955, 4960, 4963, 4990, 4995, 4998],\n",
       "      dtype='int64', length=116)"
      ]
     },
     "execution_count": 421,
     "metadata": {},
     "output_type": "execute_result"
    }
   ],
   "source": [
    "drop_unit_outliers = df[df['time_spent'] >= 45].index\n",
    "drop_unit_outliers"
   ]
  },
  {
   "cell_type": "code",
   "execution_count": 422,
   "metadata": {},
   "outputs": [],
   "source": [
    "df.drop(drop_unit_outliers, inplace=True)"
   ]
  },
  {
   "cell_type": "code",
   "execution_count": 423,
   "metadata": {},
   "outputs": [
    {
     "data": {
      "text/plain": [
       "<Axes: ylabel='pages_visited'>"
      ]
     },
     "execution_count": 423,
     "metadata": {},
     "output_type": "execute_result"
    },
    {
     "data": {
      "image/png": "[encoded data removed]",
      "text/plain": [
       "<Figure size 640x480 with 1 Axes>"
      ]
     },
     "metadata": {},
     "output_type": "display_data"
    }
   ],
   "source": [
    "sns.boxplot(data = df, y = 'pages_visited')\n"
   ]
  },
  {
   "cell_type": "code",
   "execution_count": 424,
   "metadata": {},
   "outputs": [
    {
     "data": {
      "text/plain": [
       "<Axes: ylabel='cart_items'>"
      ]
     },
     "execution_count": 424,
     "metadata": {},
     "output_type": "execute_result"
    },
    {
     "data": {
      "image/png": "[encoded data removed]",
      "text/plain": [
       "<Figure size 640x480 with 1 Axes>"
      ]
     },
     "metadata": {},
     "output_type": "display_data"
    }
   ],
   "source": [
    "sns.boxplot(data = df, y = 'cart_items')\n"
   ]
  },
  {
   "cell_type": "code",
   "execution_count": 425,
   "metadata": {},
   "outputs": [
    {
     "data": {
      "text/plain": [
       "<Axes: ylabel='cart_value'>"
      ]
     },
     "execution_count": 425,
     "metadata": {},
     "output_type": "execute_result"
    },
    {
     "data": {
      "image/png": "[encoded data removed]",
      "text/plain": [
       "<Figure size 640x480 with 1 Axes>"
      ]
     },
     "metadata": {},
     "output_type": "display_data"
    }
   ],
   "source": [
    "sns.boxplot(data = df, y = 'cart_value')"
   ]
  },
  {
   "cell_type": "code",
   "execution_count": 426,
   "metadata": {},
   "outputs": [
    {
     "data": {
      "text/plain": [
       "3200    427.40\n",
       "2769    413.11\n",
       "2664    394.77\n",
       "445     387.98\n",
       "1268    377.98\n",
       "263     377.54\n",
       "2615    365.38\n",
       "1479    362.37\n",
       "604     359.00\n",
       "964     357.77\n",
       "166     356.50\n",
       "301     354.05\n",
       "4557    353.80\n",
       "1228    353.35\n",
       "1488    346.81\n",
       "1757    345.23\n",
       "906     344.84\n",
       "279     344.60\n",
       "1483    344.48\n",
       "2542    344.43\n",
       "Name: cart_value, dtype: float64"
      ]
     },
     "execution_count": 426,
     "metadata": {},
     "output_type": "execute_result"
    }
   ],
   "source": [
    "df['cart_value'].sort_values(ascending=False).head(20)"
   ]
  },
  {
   "attachments": {},
   "cell_type": "markdown",
   "metadata": {},
   "source": [
    "Since the mean is only 150, i decided drop those value over 350 as boxplot show."
   ]
  },
  {
   "cell_type": "code",
   "execution_count": 427,
   "metadata": {},
   "outputs": [
    {
     "data": {
      "text/plain": [
       "Index([166, 263, 301, 445, 604, 964, 1228, 1268, 1479, 2615, 2664, 2769, 3200,\n",
       "       4557],\n",
       "      dtype='int64')"
      ]
     },
     "execution_count": 427,
     "metadata": {},
     "output_type": "execute_result"
    }
   ],
   "source": [
    "drop_unit_outliers = df[df['cart_value'] >= 350].index\n",
    "drop_unit_outliers"
   ]
  },
  {
   "cell_type": "code",
   "execution_count": 428,
   "metadata": {},
   "outputs": [],
   "source": [
    "df.drop(drop_unit_outliers, inplace=True)"
   ]
  },
  {
   "cell_type": "code",
   "execution_count": 429,
   "metadata": {},
   "outputs": [
    {
     "name": "stdout",
     "output_type": "stream",
     "text": [
      "<class 'pandas.core.frame.DataFrame'>\n",
      "Index: 4869 entries, 0 to 4999\n",
      "Data columns (total 10 columns):\n",
      " #   Column           Non-Null Count  Dtype  \n",
      "---  ------           --------------  -----  \n",
      " 0   userID           4869 non-null   int64  \n",
      " 1   age              4869 non-null   int64  \n",
      " 2   sessions         4869 non-null   int64  \n",
      " 3   time_spent       4869 non-null   float64\n",
      " 4   pages_visited    4869 non-null   int64  \n",
      " 5   cart_items       4869 non-null   int64  \n",
      " 6   cart_value       4869 non-null   float64\n",
      " 7   checkout_status  4869 non-null   int64  \n",
      " 8   device           4869 non-null   object \n",
      " 9   location         4869 non-null   object \n",
      "dtypes: float64(2), int64(6), object(2)\n",
      "memory usage: 418.4+ KB\n"
     ]
    }
   ],
   "source": [
    "df.info()"
   ]
  },
  {
   "attachments": {},
   "cell_type": "markdown",
   "metadata": {},
   "source": [
    "Now, data cleaning is finished with 4981 data! \n",
    "\n",
    "## Data Exploration\n"
   ]
  },
  {
   "cell_type": "code",
   "execution_count": 430,
   "metadata": {},
   "outputs": [
    {
     "data": {
      "text/plain": [
       "<Axes: xlabel='time_spent', ylabel='Count'>"
      ]
     },
     "execution_count": 430,
     "metadata": {},
     "output_type": "execute_result"
    },
    {
     "data": {
      "image/png": "[encoded data removed]",
      "text/plain": [
       "<Figure size 640x480 with 1 Axes>"
      ]
     },
     "metadata": {},
     "output_type": "display_data"
    }
   ],
   "source": [
    "# The time_spent is normal distribution\n",
    "sns.histplot(df['time_spent'])"
   ]
  },
  {
   "cell_type": "code",
   "execution_count": 431,
   "metadata": {},
   "outputs": [
    {
     "data": {
      "text/plain": [
       "<Axes: xlabel='pages_visited', ylabel='Count'>"
      ]
     },
     "execution_count": 431,
     "metadata": {},
     "output_type": "execute_result"
    },
    {
     "data": {
      "image/png": "[encoded data removed]",
      "text/plain": [
       "<Figure size 640x480 with 1 Axes>"
      ]
     },
     "metadata": {},
     "output_type": "display_data"
    }
   ],
   "source": [
    "sns.histplot(df['pages_visited'])"
   ]
  },
  {
   "cell_type": "code",
   "execution_count": 432,
   "metadata": {},
   "outputs": [
    {
     "data": {
      "text/plain": [
       "<Axes: xlabel='cart_items', ylabel='Count'>"
      ]
     },
     "execution_count": 432,
     "metadata": {},
     "output_type": "execute_result"
    },
    {
     "data": {
      "image/png": "[encoded data removed]",
      "text/plain": [
       "<Figure size 640x480 with 1 Axes>"
      ]
     },
     "metadata": {},
     "output_type": "display_data"
    }
   ],
   "source": [
    "sns.histplot(df['cart_items'])\n"
   ]
  },
  {
   "cell_type": "code",
   "execution_count": 433,
   "metadata": {},
   "outputs": [
    {
     "name": "stdout",
     "output_type": "stream",
     "text": [
      "0.004424364009821648\n",
      "-1.2038046361306707\n"
     ]
    }
   ],
   "source": [
    "print(stats.skew(df['cart_items']))\n",
    "print(stats.kurtosis(df['cart_items']))"
   ]
  },
  {
   "attachments": {},
   "cell_type": "markdown",
   "metadata": {},
   "source": [
    "Skew is very small, but kurtosis is -1.20。The data has fewer extreme values (very large) than the normal distribution, and the data tends to be more evenly distributed"
   ]
  },
  {
   "cell_type": "code",
   "execution_count": 434,
   "metadata": {},
   "outputs": [
    {
     "data": {
      "text/plain": [
       "<Axes: xlabel='cart_value', ylabel='Count'>"
      ]
     },
     "execution_count": 434,
     "metadata": {},
     "output_type": "execute_result"
    },
    {
     "data": {
      "image/png": "[encoded data removed]",
      "text/plain": [
       "<Figure size 640x480 with 1 Axes>"
      ]
     },
     "metadata": {},
     "output_type": "display_data"
    }
   ],
   "source": [
    "sns.histplot(df['cart_value'])"
   ]
  },
  {
   "cell_type": "code",
   "execution_count": 435,
   "metadata": {},
   "outputs": [
    {
     "name": "stdout",
     "output_type": "stream",
     "text": [
      "0.3794198991562905\n",
      "-0.6504683551724617\n"
     ]
    }
   ],
   "source": [
    "print(stats.skew(df['cart_value']))\n",
    "print(stats.kurtosis(df['cart_value']))"
   ]
  },
  {
   "attachments": {},
   "cell_type": "markdown",
   "metadata": {},
   "source": [
    "The skew is left means most people purchaase cheap items, and kurtosis is -0.64, means fewer extermely value."
   ]
  },
  {
   "cell_type": "code",
   "execution_count": 436,
   "metadata": {},
   "outputs": [
    {
     "data": {
      "text/html": [
       "<div>\n",
       "<style scoped>\n",
       "    .dataframe tbody tr th:only-of-type {\n",
       "        vertical-align: middle;\n",
       "    }\n",
       "\n",
       "    .dataframe tbody tr th {\n",
       "        vertical-align: top;\n",
       "    }\n",
       "\n",
       "    .dataframe thead th {\n",
       "        text-align: right;\n",
       "    }\n",
       "</style>\n",
       "<table border=\"1\" class=\"dataframe\">\n",
       "  <thead>\n",
       "    <tr style=\"text-align: right;\">\n",
       "      <th></th>\n",
       "      <th>userID</th>\n",
       "      <th>age</th>\n",
       "      <th>sessions</th>\n",
       "      <th>time_spent</th>\n",
       "      <th>pages_visited</th>\n",
       "      <th>cart_items</th>\n",
       "      <th>cart_value</th>\n",
       "      <th>checkout_status</th>\n",
       "      <th>device</th>\n",
       "      <th>location</th>\n",
       "    </tr>\n",
       "  </thead>\n",
       "  <tbody>\n",
       "    <tr>\n",
       "      <th>0</th>\n",
       "      <td>1</td>\n",
       "      <td>62</td>\n",
       "      <td>3</td>\n",
       "      <td>13.295129</td>\n",
       "      <td>2</td>\n",
       "      <td>20</td>\n",
       "      <td>199.21</td>\n",
       "      <td>0</td>\n",
       "      <td>Desktop</td>\n",
       "      <td>Location 1</td>\n",
       "    </tr>\n",
       "    <tr>\n",
       "      <th>1</th>\n",
       "      <td>2</td>\n",
       "      <td>65</td>\n",
       "      <td>2</td>\n",
       "      <td>21.686405</td>\n",
       "      <td>3</td>\n",
       "      <td>21</td>\n",
       "      <td>294.82</td>\n",
       "      <td>0</td>\n",
       "      <td>Desktop</td>\n",
       "      <td>Location 3</td>\n",
       "    </tr>\n",
       "    <tr>\n",
       "      <th>2</th>\n",
       "      <td>3</td>\n",
       "      <td>18</td>\n",
       "      <td>7</td>\n",
       "      <td>17.135220</td>\n",
       "      <td>4</td>\n",
       "      <td>23</td>\n",
       "      <td>240.87</td>\n",
       "      <td>0</td>\n",
       "      <td>Desktop</td>\n",
       "      <td>Location 4</td>\n",
       "    </tr>\n",
       "    <tr>\n",
       "      <th>3</th>\n",
       "      <td>4</td>\n",
       "      <td>21</td>\n",
       "      <td>9</td>\n",
       "      <td>29.589311</td>\n",
       "      <td>8</td>\n",
       "      <td>16</td>\n",
       "      <td>183.78</td>\n",
       "      <td>1</td>\n",
       "      <td>Desktop</td>\n",
       "      <td>Location 2</td>\n",
       "    </tr>\n",
       "    <tr>\n",
       "      <th>4</th>\n",
       "      <td>5</td>\n",
       "      <td>21</td>\n",
       "      <td>3</td>\n",
       "      <td>25.948584</td>\n",
       "      <td>4</td>\n",
       "      <td>10</td>\n",
       "      <td>59.51</td>\n",
       "      <td>1</td>\n",
       "      <td>Tablet</td>\n",
       "      <td>Location 4</td>\n",
       "    </tr>\n",
       "    <tr>\n",
       "      <th>...</th>\n",
       "      <td>...</td>\n",
       "      <td>...</td>\n",
       "      <td>...</td>\n",
       "      <td>...</td>\n",
       "      <td>...</td>\n",
       "      <td>...</td>\n",
       "      <td>...</td>\n",
       "      <td>...</td>\n",
       "      <td>...</td>\n",
       "      <td>...</td>\n",
       "    </tr>\n",
       "    <tr>\n",
       "      <th>4993</th>\n",
       "      <td>4994</td>\n",
       "      <td>42</td>\n",
       "      <td>1</td>\n",
       "      <td>21.218768</td>\n",
       "      <td>5</td>\n",
       "      <td>13</td>\n",
       "      <td>120.59</td>\n",
       "      <td>0</td>\n",
       "      <td>Desktop</td>\n",
       "      <td>Location 5</td>\n",
       "    </tr>\n",
       "    <tr>\n",
       "      <th>4994</th>\n",
       "      <td>4995</td>\n",
       "      <td>33</td>\n",
       "      <td>4</td>\n",
       "      <td>29.762098</td>\n",
       "      <td>9</td>\n",
       "      <td>20</td>\n",
       "      <td>185.60</td>\n",
       "      <td>1</td>\n",
       "      <td>Desktop</td>\n",
       "      <td>Location 1</td>\n",
       "    </tr>\n",
       "    <tr>\n",
       "      <th>4996</th>\n",
       "      <td>4997</td>\n",
       "      <td>31</td>\n",
       "      <td>4</td>\n",
       "      <td>44.700747</td>\n",
       "      <td>9</td>\n",
       "      <td>12</td>\n",
       "      <td>78.97</td>\n",
       "      <td>0</td>\n",
       "      <td>Tablet</td>\n",
       "      <td>Location 2</td>\n",
       "    </tr>\n",
       "    <tr>\n",
       "      <th>4997</th>\n",
       "      <td>4998</td>\n",
       "      <td>34</td>\n",
       "      <td>5</td>\n",
       "      <td>27.146624</td>\n",
       "      <td>7</td>\n",
       "      <td>19</td>\n",
       "      <td>139.42</td>\n",
       "      <td>1</td>\n",
       "      <td>Desktop</td>\n",
       "      <td>Location 4</td>\n",
       "    </tr>\n",
       "    <tr>\n",
       "      <th>4999</th>\n",
       "      <td>5000</td>\n",
       "      <td>63</td>\n",
       "      <td>2</td>\n",
       "      <td>28.484907</td>\n",
       "      <td>7</td>\n",
       "      <td>10</td>\n",
       "      <td>84.15</td>\n",
       "      <td>1</td>\n",
       "      <td>Tablet</td>\n",
       "      <td>Location 3</td>\n",
       "    </tr>\n",
       "  </tbody>\n",
       "</table>\n",
       "<p>4869 rows × 10 columns</p>\n",
       "</div>"
      ],
      "text/plain": [
       "      userID  age  sessions  time_spent  pages_visited  cart_items   \n",
       "0          1   62         3   13.295129              2          20  \\\n",
       "1          2   65         2   21.686405              3          21   \n",
       "2          3   18         7   17.135220              4          23   \n",
       "3          4   21         9   29.589311              8          16   \n",
       "4          5   21         3   25.948584              4          10   \n",
       "...      ...  ...       ...         ...            ...         ...   \n",
       "4993    4994   42         1   21.218768              5          13   \n",
       "4994    4995   33         4   29.762098              9          20   \n",
       "4996    4997   31         4   44.700747              9          12   \n",
       "4997    4998   34         5   27.146624              7          19   \n",
       "4999    5000   63         2   28.484907              7          10   \n",
       "\n",
       "      cart_value  checkout_status   device    location  \n",
       "0         199.21                0  Desktop  Location 1  \n",
       "1         294.82                0  Desktop  Location 3  \n",
       "2         240.87                0  Desktop  Location 4  \n",
       "3         183.78                1  Desktop  Location 2  \n",
       "4          59.51                1   Tablet  Location 4  \n",
       "...          ...              ...      ...         ...  \n",
       "4993      120.59                0  Desktop  Location 5  \n",
       "4994      185.60                1  Desktop  Location 1  \n",
       "4996       78.97                0   Tablet  Location 2  \n",
       "4997      139.42                1  Desktop  Location 4  \n",
       "4999       84.15                1   Tablet  Location 3  \n",
       "\n",
       "[4869 rows x 10 columns]"
      ]
     },
     "execution_count": 436,
     "metadata": {},
     "output_type": "execute_result"
    }
   ],
   "source": [
    "df"
   ]
  },
  {
   "cell_type": "code",
   "execution_count": 437,
   "metadata": {},
   "outputs": [
    {
     "data": {
      "text/plain": [
       "<Axes: xlabel='device'>"
      ]
     },
     "execution_count": 437,
     "metadata": {},
     "output_type": "execute_result"
    },
    {
     "data": {
      "image/png": "[encoded data removed]",
      "text/plain": [
       "<Figure size 640x480 with 1 Axes>"
      ]
     },
     "metadata": {},
     "output_type": "display_data"
    }
   ],
   "source": [
    "df.groupby('device')['time_spent'].count().sort_values(ascending=False).plot(kind='bar')\n"
   ]
  },
  {
   "cell_type": "code",
   "execution_count": 438,
   "metadata": {},
   "outputs": [
    {
     "data": {
      "text/plain": [
       "<Axes: xlabel='device'>"
      ]
     },
     "execution_count": 438,
     "metadata": {},
     "output_type": "execute_result"
    },
    {
     "data": {
      "image/png": "[encoded data removed]",
      "text/plain": [
       "<Figure size 640x480 with 1 Axes>"
      ]
     },
     "metadata": {},
     "output_type": "display_data"
    }
   ],
   "source": [
    "df.groupby('device')['pages_visited'].count().sort_values(ascending=False).plot(kind='bar')"
   ]
  },
  {
   "cell_type": "code",
   "execution_count": 439,
   "metadata": {},
   "outputs": [
    {
     "data": {
      "text/plain": [
       "<Axes: xlabel='device'>"
      ]
     },
     "execution_count": 439,
     "metadata": {},
     "output_type": "execute_result"
    },
    {
     "data": {
      "image/png": "[encoded data removed]",
      "text/plain": [
       "<Figure size 640x480 with 1 Axes>"
      ]
     },
     "metadata": {},
     "output_type": "display_data"
    }
   ],
   "source": [
    "\n",
    "df.groupby('device')['cart_items'].count().sort_values(ascending=False).plot(kind='bar')"
   ]
  },
  {
   "cell_type": "code",
   "execution_count": 440,
   "metadata": {},
   "outputs": [
    {
     "data": {
      "text/plain": [
       "<Axes: xlabel='device'>"
      ]
     },
     "execution_count": 440,
     "metadata": {},
     "output_type": "execute_result"
    },
    {
     "data": {
      "image/png": "[encoded data removed]",
      "text/plain": [
       "<Figure size 640x480 with 1 Axes>"
      ]
     },
     "metadata": {},
     "output_type": "display_data"
    }
   ],
   "source": [
    "df.groupby('device')['cart_value'].count().sort_values(ascending=False).plot(kind='bar')"
   ]
  },
  {
   "cell_type": "code",
   "execution_count": 441,
   "metadata": {},
   "outputs": [
    {
     "data": {
      "text/plain": [
       "<Axes: xlabel='device'>"
      ]
     },
     "execution_count": 441,
     "metadata": {},
     "output_type": "execute_result"
    },
    {
     "data": {
      "image/png": "[encoded data removed]",
      "text/plain": [
       "<Figure size 640x480 with 1 Axes>"
      ]
     },
     "metadata": {},
     "output_type": "display_data"
    }
   ],
   "source": [
    "df.groupby('device')['checkout_status'].count().sort_values(ascending=False).plot(kind='bar')"
   ]
  },
  {
   "attachments": {},
   "cell_type": "markdown",
   "metadata": {},
   "source": [
    "Based on those analysis, we find people with desktop are highly to buy the prodcut. with tablet are less likely to by."
   ]
  },
  {
   "cell_type": "code",
   "execution_count": 442,
   "metadata": {},
   "outputs": [
    {
     "data": {
      "text/html": [
       "<div>\n",
       "<style scoped>\n",
       "    .dataframe tbody tr th:only-of-type {\n",
       "        vertical-align: middle;\n",
       "    }\n",
       "\n",
       "    .dataframe tbody tr th {\n",
       "        vertical-align: top;\n",
       "    }\n",
       "\n",
       "    .dataframe thead th {\n",
       "        text-align: right;\n",
       "    }\n",
       "</style>\n",
       "<table border=\"1\" class=\"dataframe\">\n",
       "  <thead>\n",
       "    <tr style=\"text-align: right;\">\n",
       "      <th></th>\n",
       "      <th>userID</th>\n",
       "      <th>age</th>\n",
       "      <th>sessions</th>\n",
       "      <th>time_spent</th>\n",
       "      <th>pages_visited</th>\n",
       "      <th>cart_items</th>\n",
       "      <th>cart_value</th>\n",
       "      <th>checkout_status</th>\n",
       "      <th>device</th>\n",
       "      <th>location</th>\n",
       "    </tr>\n",
       "  </thead>\n",
       "  <tbody>\n",
       "    <tr>\n",
       "      <th>0</th>\n",
       "      <td>1</td>\n",
       "      <td>62</td>\n",
       "      <td>3</td>\n",
       "      <td>13.295129</td>\n",
       "      <td>2</td>\n",
       "      <td>20</td>\n",
       "      <td>199.21</td>\n",
       "      <td>0</td>\n",
       "      <td>Desktop</td>\n",
       "      <td>Location 1</td>\n",
       "    </tr>\n",
       "    <tr>\n",
       "      <th>1</th>\n",
       "      <td>2</td>\n",
       "      <td>65</td>\n",
       "      <td>2</td>\n",
       "      <td>21.686405</td>\n",
       "      <td>3</td>\n",
       "      <td>21</td>\n",
       "      <td>294.82</td>\n",
       "      <td>0</td>\n",
       "      <td>Desktop</td>\n",
       "      <td>Location 3</td>\n",
       "    </tr>\n",
       "    <tr>\n",
       "      <th>2</th>\n",
       "      <td>3</td>\n",
       "      <td>18</td>\n",
       "      <td>7</td>\n",
       "      <td>17.135220</td>\n",
       "      <td>4</td>\n",
       "      <td>23</td>\n",
       "      <td>240.87</td>\n",
       "      <td>0</td>\n",
       "      <td>Desktop</td>\n",
       "      <td>Location 4</td>\n",
       "    </tr>\n",
       "    <tr>\n",
       "      <th>3</th>\n",
       "      <td>4</td>\n",
       "      <td>21</td>\n",
       "      <td>9</td>\n",
       "      <td>29.589311</td>\n",
       "      <td>8</td>\n",
       "      <td>16</td>\n",
       "      <td>183.78</td>\n",
       "      <td>1</td>\n",
       "      <td>Desktop</td>\n",
       "      <td>Location 2</td>\n",
       "    </tr>\n",
       "    <tr>\n",
       "      <th>4</th>\n",
       "      <td>5</td>\n",
       "      <td>21</td>\n",
       "      <td>3</td>\n",
       "      <td>25.948584</td>\n",
       "      <td>4</td>\n",
       "      <td>10</td>\n",
       "      <td>59.51</td>\n",
       "      <td>1</td>\n",
       "      <td>Tablet</td>\n",
       "      <td>Location 4</td>\n",
       "    </tr>\n",
       "    <tr>\n",
       "      <th>...</th>\n",
       "      <td>...</td>\n",
       "      <td>...</td>\n",
       "      <td>...</td>\n",
       "      <td>...</td>\n",
       "      <td>...</td>\n",
       "      <td>...</td>\n",
       "      <td>...</td>\n",
       "      <td>...</td>\n",
       "      <td>...</td>\n",
       "      <td>...</td>\n",
       "    </tr>\n",
       "    <tr>\n",
       "      <th>4993</th>\n",
       "      <td>4994</td>\n",
       "      <td>42</td>\n",
       "      <td>1</td>\n",
       "      <td>21.218768</td>\n",
       "      <td>5</td>\n",
       "      <td>13</td>\n",
       "      <td>120.59</td>\n",
       "      <td>0</td>\n",
       "      <td>Desktop</td>\n",
       "      <td>Location 5</td>\n",
       "    </tr>\n",
       "    <tr>\n",
       "      <th>4994</th>\n",
       "      <td>4995</td>\n",
       "      <td>33</td>\n",
       "      <td>4</td>\n",
       "      <td>29.762098</td>\n",
       "      <td>9</td>\n",
       "      <td>20</td>\n",
       "      <td>185.60</td>\n",
       "      <td>1</td>\n",
       "      <td>Desktop</td>\n",
       "      <td>Location 1</td>\n",
       "    </tr>\n",
       "    <tr>\n",
       "      <th>4996</th>\n",
       "      <td>4997</td>\n",
       "      <td>31</td>\n",
       "      <td>4</td>\n",
       "      <td>44.700747</td>\n",
       "      <td>9</td>\n",
       "      <td>12</td>\n",
       "      <td>78.97</td>\n",
       "      <td>0</td>\n",
       "      <td>Tablet</td>\n",
       "      <td>Location 2</td>\n",
       "    </tr>\n",
       "    <tr>\n",
       "      <th>4997</th>\n",
       "      <td>4998</td>\n",
       "      <td>34</td>\n",
       "      <td>5</td>\n",
       "      <td>27.146624</td>\n",
       "      <td>7</td>\n",
       "      <td>19</td>\n",
       "      <td>139.42</td>\n",
       "      <td>1</td>\n",
       "      <td>Desktop</td>\n",
       "      <td>Location 4</td>\n",
       "    </tr>\n",
       "    <tr>\n",
       "      <th>4999</th>\n",
       "      <td>5000</td>\n",
       "      <td>63</td>\n",
       "      <td>2</td>\n",
       "      <td>28.484907</td>\n",
       "      <td>7</td>\n",
       "      <td>10</td>\n",
       "      <td>84.15</td>\n",
       "      <td>1</td>\n",
       "      <td>Tablet</td>\n",
       "      <td>Location 3</td>\n",
       "    </tr>\n",
       "  </tbody>\n",
       "</table>\n",
       "<p>4869 rows × 10 columns</p>\n",
       "</div>"
      ],
      "text/plain": [
       "      userID  age  sessions  time_spent  pages_visited  cart_items   \n",
       "0          1   62         3   13.295129              2          20  \\\n",
       "1          2   65         2   21.686405              3          21   \n",
       "2          3   18         7   17.135220              4          23   \n",
       "3          4   21         9   29.589311              8          16   \n",
       "4          5   21         3   25.948584              4          10   \n",
       "...      ...  ...       ...         ...            ...         ...   \n",
       "4993    4994   42         1   21.218768              5          13   \n",
       "4994    4995   33         4   29.762098              9          20   \n",
       "4996    4997   31         4   44.700747              9          12   \n",
       "4997    4998   34         5   27.146624              7          19   \n",
       "4999    5000   63         2   28.484907              7          10   \n",
       "\n",
       "      cart_value  checkout_status   device    location  \n",
       "0         199.21                0  Desktop  Location 1  \n",
       "1         294.82                0  Desktop  Location 3  \n",
       "2         240.87                0  Desktop  Location 4  \n",
       "3         183.78                1  Desktop  Location 2  \n",
       "4          59.51                1   Tablet  Location 4  \n",
       "...          ...              ...      ...         ...  \n",
       "4993      120.59                0  Desktop  Location 5  \n",
       "4994      185.60                1  Desktop  Location 1  \n",
       "4996       78.97                0   Tablet  Location 2  \n",
       "4997      139.42                1  Desktop  Location 4  \n",
       "4999       84.15                1   Tablet  Location 3  \n",
       "\n",
       "[4869 rows x 10 columns]"
      ]
     },
     "execution_count": 442,
     "metadata": {},
     "output_type": "execute_result"
    }
   ],
   "source": [
    "df"
   ]
  },
  {
   "cell_type": "code",
   "execution_count": 443,
   "metadata": {},
   "outputs": [
    {
     "data": {
      "text/plain": [
       "<Axes: xlabel='location'>"
      ]
     },
     "execution_count": 443,
     "metadata": {},
     "output_type": "execute_result"
    },
    {
     "data": {
      "image/png": "[encoded data removed]",
      "text/plain": [
       "<Figure size 640x480 with 1 Axes>"
      ]
     },
     "metadata": {},
     "output_type": "display_data"
    }
   ],
   "source": [
    "df.groupby('location')['time_spent'].count().sort_values(ascending=False).plot(kind='bar')"
   ]
  },
  {
   "cell_type": "code",
   "execution_count": 444,
   "metadata": {},
   "outputs": [
    {
     "data": {
      "text/plain": [
       "<Axes: xlabel='location'>"
      ]
     },
     "execution_count": 444,
     "metadata": {},
     "output_type": "execute_result"
    },
    {
     "data": {
      "image/png": "[encoded data removed]",
      "text/plain": [
       "<Figure size 640x480 with 1 Axes>"
      ]
     },
     "metadata": {},
     "output_type": "display_data"
    }
   ],
   "source": [
    "df.groupby('location')['pages_visited'].count().sort_values(ascending=False).plot(kind='bar')"
   ]
  },
  {
   "cell_type": "code",
   "execution_count": 445,
   "metadata": {},
   "outputs": [
    {
     "data": {
      "text/plain": [
       "<Axes: xlabel='location'>"
      ]
     },
     "execution_count": 445,
     "metadata": {},
     "output_type": "execute_result"
    },
    {
     "data": {
      "image/png": "[encoded data removed]",
      "text/plain": [
       "<Figure size 640x480 with 1 Axes>"
      ]
     },
     "metadata": {},
     "output_type": "display_data"
    }
   ],
   "source": [
    "df.groupby('location')['cart_items'].count().sort_values(ascending=False).plot(kind='bar',)"
   ]
  },
  {
   "cell_type": "code",
   "execution_count": 446,
   "metadata": {},
   "outputs": [
    {
     "data": {
      "text/plain": [
       "<Axes: xlabel='location'>"
      ]
     },
     "execution_count": 446,
     "metadata": {},
     "output_type": "execute_result"
    },
    {
     "data": {
      "image/png": "[encoded data removed]",
      "text/plain": [
       "<Figure size 640x480 with 1 Axes>"
      ]
     },
     "metadata": {},
     "output_type": "display_data"
    }
   ],
   "source": [
    "df.groupby('location')['cart_value'].count().sort_values(ascending=False).plot(kind='bar')"
   ]
  },
  {
   "cell_type": "code",
   "execution_count": 447,
   "metadata": {},
   "outputs": [
    {
     "data": {
      "text/plain": [
       "<Axes: xlabel='location'>"
      ]
     },
     "execution_count": 447,
     "metadata": {},
     "output_type": "execute_result"
    },
    {
     "data": {
      "image/png": "[encoded data removed]",
      "text/plain": [
       "<Figure size 640x480 with 1 Axes>"
      ]
     },
     "metadata": {},
     "output_type": "display_data"
    }
   ],
   "source": [
    "df.groupby('location')['cart_value'].count().sort_values(ascending=False).plot(kind='bar')"
   ]
  },
  {
   "cell_type": "code",
   "execution_count": 448,
   "metadata": {},
   "outputs": [
    {
     "data": {
      "text/plain": [
       "<Axes: xlabel='location'>"
      ]
     },
     "execution_count": 448,
     "metadata": {},
     "output_type": "execute_result"
    },
    {
     "data": {
      "image/png": "[encoded data removed]",
      "text/plain": [
       "<Figure size 640x480 with 1 Axes>"
      ]
     },
     "metadata": {},
     "output_type": "display_data"
    }
   ],
   "source": [
    "df[df['checkout_status'] == 1].groupby('location')['checkout_status'].count().sort_values(ascending=False).plot(kind='bar')"
   ]
  },
  {
   "cell_type": "code",
   "execution_count": 449,
   "metadata": {},
   "outputs": [
    {
     "data": {
      "text/plain": [
       "location\n",
       "Location 4    308\n",
       "Location 1    277\n",
       "Location 3    265\n",
       "Location 5    259\n",
       "Location 2    253\n",
       "Name: checkout_status, dtype: int64"
      ]
     },
     "execution_count": 449,
     "metadata": {},
     "output_type": "execute_result"
    }
   ],
   "source": [
    "df[df['checkout_status'] == 1].groupby('location')['checkout_status'].count().sort_values(ascending=False).head()\n"
   ]
  },
  {
   "attachments": {},
   "cell_type": "markdown",
   "metadata": {},
   "source": [
    "Based on those analysis, we find people in location 4 are highly to buy the product. In location 2 are less likely to by!"
   ]
  },
  {
   "attachments": {},
   "cell_type": "markdown",
   "metadata": {},
   "source": [
    "# let's do the experimentation\n",
    "First, we are using location"
   ]
  },
  {
   "cell_type": "code",
   "execution_count": 450,
   "metadata": {},
   "outputs": [
    {
     "data": {
      "text/html": [
       "<div>\n",
       "<style scoped>\n",
       "    .dataframe tbody tr th:only-of-type {\n",
       "        vertical-align: middle;\n",
       "    }\n",
       "\n",
       "    .dataframe tbody tr th {\n",
       "        vertical-align: top;\n",
       "    }\n",
       "\n",
       "    .dataframe thead th {\n",
       "        text-align: right;\n",
       "    }\n",
       "</style>\n",
       "<table border=\"1\" class=\"dataframe\">\n",
       "  <thead>\n",
       "    <tr style=\"text-align: right;\">\n",
       "      <th></th>\n",
       "      <th>userID</th>\n",
       "      <th>age</th>\n",
       "      <th>sessions</th>\n",
       "      <th>time_spent</th>\n",
       "      <th>pages_visited</th>\n",
       "      <th>cart_items</th>\n",
       "      <th>cart_value</th>\n",
       "      <th>checkout_status</th>\n",
       "      <th>device</th>\n",
       "      <th>location</th>\n",
       "    </tr>\n",
       "  </thead>\n",
       "  <tbody>\n",
       "    <tr>\n",
       "      <th>0</th>\n",
       "      <td>1</td>\n",
       "      <td>62</td>\n",
       "      <td>3</td>\n",
       "      <td>13.295129</td>\n",
       "      <td>2</td>\n",
       "      <td>20</td>\n",
       "      <td>199.21</td>\n",
       "      <td>0</td>\n",
       "      <td>Desktop</td>\n",
       "      <td>Location 1</td>\n",
       "    </tr>\n",
       "    <tr>\n",
       "      <th>1</th>\n",
       "      <td>2</td>\n",
       "      <td>65</td>\n",
       "      <td>2</td>\n",
       "      <td>21.686405</td>\n",
       "      <td>3</td>\n",
       "      <td>21</td>\n",
       "      <td>294.82</td>\n",
       "      <td>0</td>\n",
       "      <td>Desktop</td>\n",
       "      <td>Location 3</td>\n",
       "    </tr>\n",
       "    <tr>\n",
       "      <th>2</th>\n",
       "      <td>3</td>\n",
       "      <td>18</td>\n",
       "      <td>7</td>\n",
       "      <td>17.135220</td>\n",
       "      <td>4</td>\n",
       "      <td>23</td>\n",
       "      <td>240.87</td>\n",
       "      <td>0</td>\n",
       "      <td>Desktop</td>\n",
       "      <td>Location 4</td>\n",
       "    </tr>\n",
       "    <tr>\n",
       "      <th>3</th>\n",
       "      <td>4</td>\n",
       "      <td>21</td>\n",
       "      <td>9</td>\n",
       "      <td>29.589311</td>\n",
       "      <td>8</td>\n",
       "      <td>16</td>\n",
       "      <td>183.78</td>\n",
       "      <td>1</td>\n",
       "      <td>Desktop</td>\n",
       "      <td>Location 2</td>\n",
       "    </tr>\n",
       "    <tr>\n",
       "      <th>4</th>\n",
       "      <td>5</td>\n",
       "      <td>21</td>\n",
       "      <td>3</td>\n",
       "      <td>25.948584</td>\n",
       "      <td>4</td>\n",
       "      <td>10</td>\n",
       "      <td>59.51</td>\n",
       "      <td>1</td>\n",
       "      <td>Tablet</td>\n",
       "      <td>Location 4</td>\n",
       "    </tr>\n",
       "    <tr>\n",
       "      <th>...</th>\n",
       "      <td>...</td>\n",
       "      <td>...</td>\n",
       "      <td>...</td>\n",
       "      <td>...</td>\n",
       "      <td>...</td>\n",
       "      <td>...</td>\n",
       "      <td>...</td>\n",
       "      <td>...</td>\n",
       "      <td>...</td>\n",
       "      <td>...</td>\n",
       "    </tr>\n",
       "    <tr>\n",
       "      <th>4993</th>\n",
       "      <td>4994</td>\n",
       "      <td>42</td>\n",
       "      <td>1</td>\n",
       "      <td>21.218768</td>\n",
       "      <td>5</td>\n",
       "      <td>13</td>\n",
       "      <td>120.59</td>\n",
       "      <td>0</td>\n",
       "      <td>Desktop</td>\n",
       "      <td>Location 5</td>\n",
       "    </tr>\n",
       "    <tr>\n",
       "      <th>4994</th>\n",
       "      <td>4995</td>\n",
       "      <td>33</td>\n",
       "      <td>4</td>\n",
       "      <td>29.762098</td>\n",
       "      <td>9</td>\n",
       "      <td>20</td>\n",
       "      <td>185.60</td>\n",
       "      <td>1</td>\n",
       "      <td>Desktop</td>\n",
       "      <td>Location 1</td>\n",
       "    </tr>\n",
       "    <tr>\n",
       "      <th>4996</th>\n",
       "      <td>4997</td>\n",
       "      <td>31</td>\n",
       "      <td>4</td>\n",
       "      <td>44.700747</td>\n",
       "      <td>9</td>\n",
       "      <td>12</td>\n",
       "      <td>78.97</td>\n",
       "      <td>0</td>\n",
       "      <td>Tablet</td>\n",
       "      <td>Location 2</td>\n",
       "    </tr>\n",
       "    <tr>\n",
       "      <th>4997</th>\n",
       "      <td>4998</td>\n",
       "      <td>34</td>\n",
       "      <td>5</td>\n",
       "      <td>27.146624</td>\n",
       "      <td>7</td>\n",
       "      <td>19</td>\n",
       "      <td>139.42</td>\n",
       "      <td>1</td>\n",
       "      <td>Desktop</td>\n",
       "      <td>Location 4</td>\n",
       "    </tr>\n",
       "    <tr>\n",
       "      <th>4999</th>\n",
       "      <td>5000</td>\n",
       "      <td>63</td>\n",
       "      <td>2</td>\n",
       "      <td>28.484907</td>\n",
       "      <td>7</td>\n",
       "      <td>10</td>\n",
       "      <td>84.15</td>\n",
       "      <td>1</td>\n",
       "      <td>Tablet</td>\n",
       "      <td>Location 3</td>\n",
       "    </tr>\n",
       "  </tbody>\n",
       "</table>\n",
       "<p>4869 rows × 10 columns</p>\n",
       "</div>"
      ],
      "text/plain": [
       "      userID  age  sessions  time_spent  pages_visited  cart_items   \n",
       "0          1   62         3   13.295129              2          20  \\\n",
       "1          2   65         2   21.686405              3          21   \n",
       "2          3   18         7   17.135220              4          23   \n",
       "3          4   21         9   29.589311              8          16   \n",
       "4          5   21         3   25.948584              4          10   \n",
       "...      ...  ...       ...         ...            ...         ...   \n",
       "4993    4994   42         1   21.218768              5          13   \n",
       "4994    4995   33         4   29.762098              9          20   \n",
       "4996    4997   31         4   44.700747              9          12   \n",
       "4997    4998   34         5   27.146624              7          19   \n",
       "4999    5000   63         2   28.484907              7          10   \n",
       "\n",
       "      cart_value  checkout_status   device    location  \n",
       "0         199.21                0  Desktop  Location 1  \n",
       "1         294.82                0  Desktop  Location 3  \n",
       "2         240.87                0  Desktop  Location 4  \n",
       "3         183.78                1  Desktop  Location 2  \n",
       "4          59.51                1   Tablet  Location 4  \n",
       "...          ...              ...      ...         ...  \n",
       "4993      120.59                0  Desktop  Location 5  \n",
       "4994      185.60                1  Desktop  Location 1  \n",
       "4996       78.97                0   Tablet  Location 2  \n",
       "4997      139.42                1  Desktop  Location 4  \n",
       "4999       84.15                1   Tablet  Location 3  \n",
       "\n",
       "[4869 rows x 10 columns]"
      ]
     },
     "execution_count": 450,
     "metadata": {},
     "output_type": "execute_result"
    }
   ],
   "source": [
    "df"
   ]
  },
  {
   "cell_type": "code",
   "execution_count": 451,
   "metadata": {},
   "outputs": [
    {
     "name": "stdout",
     "output_type": "stream",
     "text": [
      "F_onewayResult(statistic=1.0926352072395018, pvalue=0.35830592498941793)\n"
     ]
    }
   ],
   "source": [
    "loc_1 = df[df['location'] == 'Location 1']['time_spent']\n",
    "loc_2 = df[df['location'] == 'Location 2']['time_spent']\n",
    "loc_3 = df[df['location'] == 'Location 3']['time_spent']\n",
    "loc_4 = df[df['location'] == 'Location 4']['time_spent']\n",
    "loc_5 = df[df['location'] == 'Location 5']['time_spent']\n",
    "p_val = stats.f_oneway(loc_1, loc_2, loc_3, loc_4, loc_5)\n",
    "print(p_val)\n",
    "\n"
   ]
  },
  {
   "attachments": {},
   "cell_type": "markdown",
   "metadata": {},
   "source": [
    "No difference between them since high p-value"
   ]
  },
  {
   "cell_type": "code",
   "execution_count": 452,
   "metadata": {},
   "outputs": [
    {
     "name": "stdout",
     "output_type": "stream",
     "text": [
      "F_onewayResult(statistic=0.5820512911958604, pvalue=0.6756529712923676)\n"
     ]
    }
   ],
   "source": [
    "loc_1 = df[df['location'] == 'Location 1']['pages_visited']\n",
    "loc_2 = df[df['location'] == 'Location 2']['pages_visited']\n",
    "loc_3 = df[df['location'] == 'Location 3']['pages_visited']\n",
    "loc_4 = df[df['location'] == 'Location 4']['pages_visited']\n",
    "loc_5 = df[df['location'] == 'Location 5']['pages_visited']\n",
    "p_val = stats.f_oneway(loc_1, loc_2, loc_3, loc_4, loc_5)\n",
    "print(p_val)"
   ]
  },
  {
   "cell_type": "code",
   "execution_count": 453,
   "metadata": {},
   "outputs": [
    {
     "name": "stdout",
     "output_type": "stream",
     "text": [
      "F_onewayResult(statistic=0.7617852310639496, pvalue=0.5500221469162804)\n"
     ]
    }
   ],
   "source": [
    "loc_1 = df[df['location'] == 'Location 1']['cart_items']\n",
    "loc_2 = df[df['location'] == 'Location 2']['cart_items']\n",
    "loc_3 = df[df['location'] == 'Location 3']['cart_items']\n",
    "loc_4 = df[df['location'] == 'Location 4']['cart_items']\n",
    "loc_5 = df[df['location'] == 'Location 5']['cart_items']\n",
    "p_val = stats.f_oneway(loc_1, loc_2, loc_3, loc_4, loc_5)\n",
    "print(p_val)"
   ]
  },
  {
   "cell_type": "code",
   "execution_count": 454,
   "metadata": {},
   "outputs": [
    {
     "name": "stdout",
     "output_type": "stream",
     "text": [
      "F_onewayResult(statistic=0.4838962577955464, pvalue=0.7476029214231963)\n"
     ]
    }
   ],
   "source": [
    "loc_1 = df[df['location'] == 'Location 1']['checkout_status']\n",
    "loc_2 = df[df['location'] == 'Location 2']['checkout_status']\n",
    "loc_3 = df[df['location'] == 'Location 3']['checkout_status']\n",
    "loc_4 = df[df['location'] == 'Location 4']['checkout_status']\n",
    "loc_5 = df[df['location'] == 'Location 5']['checkout_status']\n",
    "p_val = stats.f_oneway(loc_1, loc_2, loc_3, loc_4, loc_5)\n",
    "print(p_val)"
   ]
  },
  {
   "attachments": {},
   "cell_type": "markdown",
   "metadata": {},
   "source": [
    "now, let's see the device"
   ]
  },
  {
   "cell_type": "code",
   "execution_count": 455,
   "metadata": {},
   "outputs": [
    {
     "name": "stdout",
     "output_type": "stream",
     "text": [
      "F_onewayResult(statistic=2.319766054212819, pvalue=0.09840527628218267)\n"
     ]
    }
   ],
   "source": [
    "loc_1 = df[df['device'] == 'Desktop']['time_spent']\n",
    "loc_2 = df[df['device'] == 'Mobile']['time_spent']\n",
    "loc_3 = df[df['device'] == 'Tablet']['time_spent']\n",
    "\n",
    "p_val = stats.f_oneway(loc_1, loc_2, loc_3)\n",
    "print(p_val)"
   ]
  },
  {
   "cell_type": "code",
   "execution_count": 456,
   "metadata": {},
   "outputs": [
    {
     "name": "stdout",
     "output_type": "stream",
     "text": [
      "F_onewayResult(statistic=1.6731677823159898, pvalue=0.187759624117241)\n"
     ]
    }
   ],
   "source": [
    "loc_1 = df[df['device'] == 'Desktop']['pages_visited']\n",
    "loc_2 = df[df['device'] == 'Mobile']['pages_visited']\n",
    "loc_3 = df[df['device'] == 'Tablet']['pages_visited']\n",
    "\n",
    "p_val = stats.f_oneway(loc_1, loc_2, loc_3)\n",
    "print(p_val)"
   ]
  },
  {
   "cell_type": "code",
   "execution_count": 457,
   "metadata": {},
   "outputs": [
    {
     "name": "stdout",
     "output_type": "stream",
     "text": [
      "F_onewayResult(statistic=0.44854776914191, pvalue=0.6385812073014664)\n"
     ]
    }
   ],
   "source": [
    "loc_1 = df[df['device'] == 'Desktop']['cart_items']\n",
    "loc_2 = df[df['device'] == 'Mobile']['cart_items']\n",
    "loc_3 = df[df['device'] == 'Tablet']['cart_items']\n",
    "\n",
    "p_val = stats.f_oneway(loc_1, loc_2, loc_3)\n",
    "print(p_val)"
   ]
  },
  {
   "cell_type": "code",
   "execution_count": 458,
   "metadata": {},
   "outputs": [
    {
     "name": "stdout",
     "output_type": "stream",
     "text": [
      "F_onewayResult(statistic=0.6120432094278636, pvalue=0.5422835605921454)\n"
     ]
    }
   ],
   "source": [
    "loc_1 = df[df['device'] == 'Desktop']['cart_value']\n",
    "loc_2 = df[df['device'] == 'Mobile']['cart_value']\n",
    "loc_3 = df[df['device'] == 'Tablet']['cart_value']\n",
    "\n",
    "p_val = stats.f_oneway(loc_1, loc_2, loc_3)\n",
    "print(p_val)"
   ]
  },
  {
   "cell_type": "code",
   "execution_count": 459,
   "metadata": {},
   "outputs": [
    {
     "name": "stdout",
     "output_type": "stream",
     "text": [
      "F_onewayResult(statistic=2.0854709184871547, pvalue=0.12435963391992207)\n"
     ]
    }
   ],
   "source": [
    "loc_1 = df[df['device'] == 'Desktop']['checkout_status']\n",
    "loc_2 = df[df['device'] == 'Mobile']['checkout_status']\n",
    "loc_3 = df[df['device'] == 'Tablet']['checkout_status']\n",
    "\n",
    "p_val = stats.f_oneway(loc_1, loc_2, loc_3)\n",
    "print(p_val)"
   ]
  },
  {
   "attachments": {},
   "cell_type": "markdown",
   "metadata": {},
   "source": [
    "The users has no difference by each other by ANOVA test. "
   ]
  },
  {
   "cell_type": "code",
   "execution_count": 460,
   "metadata": {},
   "outputs": [
    {
     "data": {
      "text/html": [
       "<div>\n",
       "<style scoped>\n",
       "    .dataframe tbody tr th:only-of-type {\n",
       "        vertical-align: middle;\n",
       "    }\n",
       "\n",
       "    .dataframe tbody tr th {\n",
       "        vertical-align: top;\n",
       "    }\n",
       "\n",
       "    .dataframe thead th {\n",
       "        text-align: right;\n",
       "    }\n",
       "</style>\n",
       "<table border=\"1\" class=\"dataframe\">\n",
       "  <thead>\n",
       "    <tr style=\"text-align: right;\">\n",
       "      <th></th>\n",
       "      <th>userID</th>\n",
       "      <th>age</th>\n",
       "      <th>sessions</th>\n",
       "      <th>time_spent</th>\n",
       "      <th>pages_visited</th>\n",
       "      <th>cart_items</th>\n",
       "      <th>cart_value</th>\n",
       "      <th>checkout_status</th>\n",
       "      <th>device</th>\n",
       "      <th>location</th>\n",
       "    </tr>\n",
       "  </thead>\n",
       "  <tbody>\n",
       "    <tr>\n",
       "      <th>0</th>\n",
       "      <td>1</td>\n",
       "      <td>62</td>\n",
       "      <td>3</td>\n",
       "      <td>13.295129</td>\n",
       "      <td>2</td>\n",
       "      <td>20</td>\n",
       "      <td>199.21</td>\n",
       "      <td>0</td>\n",
       "      <td>Desktop</td>\n",
       "      <td>Location 1</td>\n",
       "    </tr>\n",
       "    <tr>\n",
       "      <th>1</th>\n",
       "      <td>2</td>\n",
       "      <td>65</td>\n",
       "      <td>2</td>\n",
       "      <td>21.686405</td>\n",
       "      <td>3</td>\n",
       "      <td>21</td>\n",
       "      <td>294.82</td>\n",
       "      <td>0</td>\n",
       "      <td>Desktop</td>\n",
       "      <td>Location 3</td>\n",
       "    </tr>\n",
       "    <tr>\n",
       "      <th>2</th>\n",
       "      <td>3</td>\n",
       "      <td>18</td>\n",
       "      <td>7</td>\n",
       "      <td>17.135220</td>\n",
       "      <td>4</td>\n",
       "      <td>23</td>\n",
       "      <td>240.87</td>\n",
       "      <td>0</td>\n",
       "      <td>Desktop</td>\n",
       "      <td>Location 4</td>\n",
       "    </tr>\n",
       "    <tr>\n",
       "      <th>3</th>\n",
       "      <td>4</td>\n",
       "      <td>21</td>\n",
       "      <td>9</td>\n",
       "      <td>29.589311</td>\n",
       "      <td>8</td>\n",
       "      <td>16</td>\n",
       "      <td>183.78</td>\n",
       "      <td>1</td>\n",
       "      <td>Desktop</td>\n",
       "      <td>Location 2</td>\n",
       "    </tr>\n",
       "    <tr>\n",
       "      <th>4</th>\n",
       "      <td>5</td>\n",
       "      <td>21</td>\n",
       "      <td>3</td>\n",
       "      <td>25.948584</td>\n",
       "      <td>4</td>\n",
       "      <td>10</td>\n",
       "      <td>59.51</td>\n",
       "      <td>1</td>\n",
       "      <td>Tablet</td>\n",
       "      <td>Location 4</td>\n",
       "    </tr>\n",
       "    <tr>\n",
       "      <th>...</th>\n",
       "      <td>...</td>\n",
       "      <td>...</td>\n",
       "      <td>...</td>\n",
       "      <td>...</td>\n",
       "      <td>...</td>\n",
       "      <td>...</td>\n",
       "      <td>...</td>\n",
       "      <td>...</td>\n",
       "      <td>...</td>\n",
       "      <td>...</td>\n",
       "    </tr>\n",
       "    <tr>\n",
       "      <th>4993</th>\n",
       "      <td>4994</td>\n",
       "      <td>42</td>\n",
       "      <td>1</td>\n",
       "      <td>21.218768</td>\n",
       "      <td>5</td>\n",
       "      <td>13</td>\n",
       "      <td>120.59</td>\n",
       "      <td>0</td>\n",
       "      <td>Desktop</td>\n",
       "      <td>Location 5</td>\n",
       "    </tr>\n",
       "    <tr>\n",
       "      <th>4994</th>\n",
       "      <td>4995</td>\n",
       "      <td>33</td>\n",
       "      <td>4</td>\n",
       "      <td>29.762098</td>\n",
       "      <td>9</td>\n",
       "      <td>20</td>\n",
       "      <td>185.60</td>\n",
       "      <td>1</td>\n",
       "      <td>Desktop</td>\n",
       "      <td>Location 1</td>\n",
       "    </tr>\n",
       "    <tr>\n",
       "      <th>4996</th>\n",
       "      <td>4997</td>\n",
       "      <td>31</td>\n",
       "      <td>4</td>\n",
       "      <td>44.700747</td>\n",
       "      <td>9</td>\n",
       "      <td>12</td>\n",
       "      <td>78.97</td>\n",
       "      <td>0</td>\n",
       "      <td>Tablet</td>\n",
       "      <td>Location 2</td>\n",
       "    </tr>\n",
       "    <tr>\n",
       "      <th>4997</th>\n",
       "      <td>4998</td>\n",
       "      <td>34</td>\n",
       "      <td>5</td>\n",
       "      <td>27.146624</td>\n",
       "      <td>7</td>\n",
       "      <td>19</td>\n",
       "      <td>139.42</td>\n",
       "      <td>1</td>\n",
       "      <td>Desktop</td>\n",
       "      <td>Location 4</td>\n",
       "    </tr>\n",
       "    <tr>\n",
       "      <th>4999</th>\n",
       "      <td>5000</td>\n",
       "      <td>63</td>\n",
       "      <td>2</td>\n",
       "      <td>28.484907</td>\n",
       "      <td>7</td>\n",
       "      <td>10</td>\n",
       "      <td>84.15</td>\n",
       "      <td>1</td>\n",
       "      <td>Tablet</td>\n",
       "      <td>Location 3</td>\n",
       "    </tr>\n",
       "  </tbody>\n",
       "</table>\n",
       "<p>4869 rows × 10 columns</p>\n",
       "</div>"
      ],
      "text/plain": [
       "      userID  age  sessions  time_spent  pages_visited  cart_items   \n",
       "0          1   62         3   13.295129              2          20  \\\n",
       "1          2   65         2   21.686405              3          21   \n",
       "2          3   18         7   17.135220              4          23   \n",
       "3          4   21         9   29.589311              8          16   \n",
       "4          5   21         3   25.948584              4          10   \n",
       "...      ...  ...       ...         ...            ...         ...   \n",
       "4993    4994   42         1   21.218768              5          13   \n",
       "4994    4995   33         4   29.762098              9          20   \n",
       "4996    4997   31         4   44.700747              9          12   \n",
       "4997    4998   34         5   27.146624              7          19   \n",
       "4999    5000   63         2   28.484907              7          10   \n",
       "\n",
       "      cart_value  checkout_status   device    location  \n",
       "0         199.21                0  Desktop  Location 1  \n",
       "1         294.82                0  Desktop  Location 3  \n",
       "2         240.87                0  Desktop  Location 4  \n",
       "3         183.78                1  Desktop  Location 2  \n",
       "4          59.51                1   Tablet  Location 4  \n",
       "...          ...              ...      ...         ...  \n",
       "4993      120.59                0  Desktop  Location 5  \n",
       "4994      185.60                1  Desktop  Location 1  \n",
       "4996       78.97                0   Tablet  Location 2  \n",
       "4997      139.42                1  Desktop  Location 4  \n",
       "4999       84.15                1   Tablet  Location 3  \n",
       "\n",
       "[4869 rows x 10 columns]"
      ]
     },
     "execution_count": 460,
     "metadata": {},
     "output_type": "execute_result"
    }
   ],
   "source": [
    "df"
   ]
  },
  {
   "cell_type": "code",
   "execution_count": 461,
   "metadata": {},
   "outputs": [
    {
     "data": {
      "text/html": [
       "<div>\n",
       "<style scoped>\n",
       "    .dataframe tbody tr th:only-of-type {\n",
       "        vertical-align: middle;\n",
       "    }\n",
       "\n",
       "    .dataframe tbody tr th {\n",
       "        vertical-align: top;\n",
       "    }\n",
       "\n",
       "    .dataframe thead th {\n",
       "        text-align: right;\n",
       "    }\n",
       "</style>\n",
       "<table border=\"1\" class=\"dataframe\">\n",
       "  <thead>\n",
       "    <tr style=\"text-align: right;\">\n",
       "      <th></th>\n",
       "      <th>userID</th>\n",
       "      <th>age</th>\n",
       "      <th>sessions</th>\n",
       "      <th>time_spent</th>\n",
       "      <th>pages_visited</th>\n",
       "      <th>cart_items</th>\n",
       "      <th>cart_value</th>\n",
       "      <th>checkout_status</th>\n",
       "      <th>device</th>\n",
       "      <th>location</th>\n",
       "    </tr>\n",
       "  </thead>\n",
       "  <tbody>\n",
       "    <tr>\n",
       "      <th>count</th>\n",
       "      <td>4869.000000</td>\n",
       "      <td>4869.000000</td>\n",
       "      <td>4869.000000</td>\n",
       "      <td>4869.000000</td>\n",
       "      <td>4869.000000</td>\n",
       "      <td>4869.000000</td>\n",
       "      <td>4869.000000</td>\n",
       "      <td>4869.000000</td>\n",
       "      <td>4869</td>\n",
       "      <td>4869</td>\n",
       "    </tr>\n",
       "    <tr>\n",
       "      <th>unique</th>\n",
       "      <td>NaN</td>\n",
       "      <td>NaN</td>\n",
       "      <td>NaN</td>\n",
       "      <td>NaN</td>\n",
       "      <td>NaN</td>\n",
       "      <td>NaN</td>\n",
       "      <td>NaN</td>\n",
       "      <td>NaN</td>\n",
       "      <td>3</td>\n",
       "      <td>5</td>\n",
       "    </tr>\n",
       "    <tr>\n",
       "      <th>top</th>\n",
       "      <td>NaN</td>\n",
       "      <td>NaN</td>\n",
       "      <td>NaN</td>\n",
       "      <td>NaN</td>\n",
       "      <td>NaN</td>\n",
       "      <td>NaN</td>\n",
       "      <td>NaN</td>\n",
       "      <td>NaN</td>\n",
       "      <td>Desktop</td>\n",
       "      <td>Location 4</td>\n",
       "    </tr>\n",
       "    <tr>\n",
       "      <th>freq</th>\n",
       "      <td>NaN</td>\n",
       "      <td>NaN</td>\n",
       "      <td>NaN</td>\n",
       "      <td>NaN</td>\n",
       "      <td>NaN</td>\n",
       "      <td>NaN</td>\n",
       "      <td>NaN</td>\n",
       "      <td>NaN</td>\n",
       "      <td>2559</td>\n",
       "      <td>1063</td>\n",
       "    </tr>\n",
       "    <tr>\n",
       "      <th>mean</th>\n",
       "      <td>2500.991579</td>\n",
       "      <td>41.567673</td>\n",
       "      <td>5.027316</td>\n",
       "      <td>24.654704</td>\n",
       "      <td>5.656603</td>\n",
       "      <td>14.963853</td>\n",
       "      <td>149.028308</td>\n",
       "      <td>0.279729</td>\n",
       "      <td>NaN</td>\n",
       "      <td>NaN</td>\n",
       "    </tr>\n",
       "    <tr>\n",
       "      <th>std</th>\n",
       "      <td>1440.884159</td>\n",
       "      <td>14.039129</td>\n",
       "      <td>2.594768</td>\n",
       "      <td>9.282836</td>\n",
       "      <td>2.479325</td>\n",
       "      <td>6.037707</td>\n",
       "      <td>67.816716</td>\n",
       "      <td>0.448912</td>\n",
       "      <td>NaN</td>\n",
       "      <td>NaN</td>\n",
       "    </tr>\n",
       "    <tr>\n",
       "      <th>min</th>\n",
       "      <td>1.000000</td>\n",
       "      <td>18.000000</td>\n",
       "      <td>1.000000</td>\n",
       "      <td>1.000000</td>\n",
       "      <td>1.000000</td>\n",
       "      <td>5.000000</td>\n",
       "      <td>20.410000</td>\n",
       "      <td>0.000000</td>\n",
       "      <td>NaN</td>\n",
       "      <td>NaN</td>\n",
       "    </tr>\n",
       "    <tr>\n",
       "      <th>25%</th>\n",
       "      <td>1257.000000</td>\n",
       "      <td>29.000000</td>\n",
       "      <td>3.000000</td>\n",
       "      <td>18.134064</td>\n",
       "      <td>4.000000</td>\n",
       "      <td>10.000000</td>\n",
       "      <td>92.370000</td>\n",
       "      <td>0.000000</td>\n",
       "      <td>NaN</td>\n",
       "      <td>NaN</td>\n",
       "    </tr>\n",
       "    <tr>\n",
       "      <th>50%</th>\n",
       "      <td>2499.000000</td>\n",
       "      <td>42.000000</td>\n",
       "      <td>5.000000</td>\n",
       "      <td>24.733236</td>\n",
       "      <td>6.000000</td>\n",
       "      <td>15.000000</td>\n",
       "      <td>143.820000</td>\n",
       "      <td>0.000000</td>\n",
       "      <td>NaN</td>\n",
       "      <td>NaN</td>\n",
       "    </tr>\n",
       "    <tr>\n",
       "      <th>75%</th>\n",
       "      <td>3749.000000</td>\n",
       "      <td>54.000000</td>\n",
       "      <td>7.000000</td>\n",
       "      <td>31.479631</td>\n",
       "      <td>7.000000</td>\n",
       "      <td>20.000000</td>\n",
       "      <td>198.040000</td>\n",
       "      <td>1.000000</td>\n",
       "      <td>NaN</td>\n",
       "      <td>NaN</td>\n",
       "    </tr>\n",
       "    <tr>\n",
       "      <th>max</th>\n",
       "      <td>5000.000000</td>\n",
       "      <td>65.000000</td>\n",
       "      <td>9.000000</td>\n",
       "      <td>44.984104</td>\n",
       "      <td>12.000000</td>\n",
       "      <td>25.000000</td>\n",
       "      <td>346.810000</td>\n",
       "      <td>1.000000</td>\n",
       "      <td>NaN</td>\n",
       "      <td>NaN</td>\n",
       "    </tr>\n",
       "  </tbody>\n",
       "</table>\n",
       "</div>"
      ],
      "text/plain": [
       "             userID          age     sessions   time_spent  pages_visited   \n",
       "count   4869.000000  4869.000000  4869.000000  4869.000000    4869.000000  \\\n",
       "unique          NaN          NaN          NaN          NaN            NaN   \n",
       "top             NaN          NaN          NaN          NaN            NaN   \n",
       "freq            NaN          NaN          NaN          NaN            NaN   \n",
       "mean    2500.991579    41.567673     5.027316    24.654704       5.656603   \n",
       "std     1440.884159    14.039129     2.594768     9.282836       2.479325   \n",
       "min        1.000000    18.000000     1.000000     1.000000       1.000000   \n",
       "25%     1257.000000    29.000000     3.000000    18.134064       4.000000   \n",
       "50%     2499.000000    42.000000     5.000000    24.733236       6.000000   \n",
       "75%     3749.000000    54.000000     7.000000    31.479631       7.000000   \n",
       "max     5000.000000    65.000000     9.000000    44.984104      12.000000   \n",
       "\n",
       "         cart_items   cart_value  checkout_status   device    location  \n",
       "count   4869.000000  4869.000000      4869.000000     4869        4869  \n",
       "unique          NaN          NaN              NaN        3           5  \n",
       "top             NaN          NaN              NaN  Desktop  Location 4  \n",
       "freq            NaN          NaN              NaN     2559        1063  \n",
       "mean      14.963853   149.028308         0.279729      NaN         NaN  \n",
       "std        6.037707    67.816716         0.448912      NaN         NaN  \n",
       "min        5.000000    20.410000         0.000000      NaN         NaN  \n",
       "25%       10.000000    92.370000         0.000000      NaN         NaN  \n",
       "50%       15.000000   143.820000         0.000000      NaN         NaN  \n",
       "75%       20.000000   198.040000         1.000000      NaN         NaN  \n",
       "max       25.000000   346.810000         1.000000      NaN         NaN  "
      ]
     },
     "execution_count": 461,
     "metadata": {},
     "output_type": "execute_result"
    }
   ],
   "source": [
    "df.describe(include='all')"
   ]
  },
  {
   "cell_type": "code",
   "execution_count": 462,
   "metadata": {},
   "outputs": [],
   "source": [
    "# Create function to classify age\n",
    "def total_cat(x):\n",
    "    if x >= 0 and x < 20:\n",
    "        return '0-20'\n",
    "    elif x >= 20 and x < 50:\n",
    "        return '20-50'\n",
    "    else:\n",
    "        return '50-100'\n",
    "  "
   ]
  },
  {
   "cell_type": "code",
   "execution_count": 468,
   "metadata": {},
   "outputs": [],
   "source": [
    "# Create function to classify value\n",
    "def total_value(x):\n",
    "    if x >= 0 and x < 50:\n",
    "        return '0-50'\n",
    "    elif x >= 50 and x < 200:\n",
    "        return '50-200'\n",
    "    else:\n",
    "        return '200+'"
   ]
  },
  {
   "cell_type": "code",
   "execution_count": 475,
   "metadata": {},
   "outputs": [],
   "source": [
    "# Create function to classify item\n",
    "def total_value_1(x):\n",
    "    if x >= 0 and x < 10:\n",
    "        return '0-10'\n",
    "    elif x >= 10 and x < 20:\n",
    "        return '50-200'\n",
    "    else:\n",
    "        return '20+'"
   ]
  },
  {
   "cell_type": "code",
   "execution_count": 469,
   "metadata": {},
   "outputs": [],
   "source": [
    "df['val'] = df['cart_value'].apply(total_value)"
   ]
  },
  {
   "cell_type": "code",
   "execution_count": 463,
   "metadata": {},
   "outputs": [],
   "source": [
    "df['age_1'] = df['age'].apply(total_cat)"
   ]
  },
  {
   "cell_type": "code",
   "execution_count": 476,
   "metadata": {},
   "outputs": [],
   "source": [
    "df['item'] = df['cart_items'].apply(total_value_1)"
   ]
  },
  {
   "cell_type": "code",
   "execution_count": 464,
   "metadata": {},
   "outputs": [
    {
     "data": {
      "text/plain": [
       "<pandas.core.groupby.generic.SeriesGroupBy object at 0x28428e7d0>"
      ]
     },
     "execution_count": 464,
     "metadata": {},
     "output_type": "execute_result"
    }
   ],
   "source": [
    "df.groupby('checkout_status')['age_1']"
   ]
  },
  {
   "cell_type": "code",
   "execution_count": 470,
   "metadata": {},
   "outputs": [
    {
     "data": {
      "text/html": [
       "<div>\n",
       "<style scoped>\n",
       "    .dataframe tbody tr th:only-of-type {\n",
       "        vertical-align: middle;\n",
       "    }\n",
       "\n",
       "    .dataframe tbody tr th {\n",
       "        vertical-align: top;\n",
       "    }\n",
       "\n",
       "    .dataframe thead th {\n",
       "        text-align: right;\n",
       "    }\n",
       "</style>\n",
       "<table border=\"1\" class=\"dataframe\">\n",
       "  <thead>\n",
       "    <tr style=\"text-align: right;\">\n",
       "      <th></th>\n",
       "      <th>userID</th>\n",
       "      <th>age</th>\n",
       "      <th>sessions</th>\n",
       "      <th>time_spent</th>\n",
       "      <th>pages_visited</th>\n",
       "      <th>cart_items</th>\n",
       "      <th>cart_value</th>\n",
       "      <th>checkout_status</th>\n",
       "      <th>device</th>\n",
       "      <th>location</th>\n",
       "      <th>age_1</th>\n",
       "      <th>val</th>\n",
       "    </tr>\n",
       "  </thead>\n",
       "  <tbody>\n",
       "    <tr>\n",
       "      <th>0</th>\n",
       "      <td>1</td>\n",
       "      <td>62</td>\n",
       "      <td>3</td>\n",
       "      <td>13.295129</td>\n",
       "      <td>2</td>\n",
       "      <td>20</td>\n",
       "      <td>199.21</td>\n",
       "      <td>0</td>\n",
       "      <td>Desktop</td>\n",
       "      <td>Location 1</td>\n",
       "      <td>50-100</td>\n",
       "      <td>50-200</td>\n",
       "    </tr>\n",
       "    <tr>\n",
       "      <th>1</th>\n",
       "      <td>2</td>\n",
       "      <td>65</td>\n",
       "      <td>2</td>\n",
       "      <td>21.686405</td>\n",
       "      <td>3</td>\n",
       "      <td>21</td>\n",
       "      <td>294.82</td>\n",
       "      <td>0</td>\n",
       "      <td>Desktop</td>\n",
       "      <td>Location 3</td>\n",
       "      <td>50-100</td>\n",
       "      <td>200+</td>\n",
       "    </tr>\n",
       "    <tr>\n",
       "      <th>2</th>\n",
       "      <td>3</td>\n",
       "      <td>18</td>\n",
       "      <td>7</td>\n",
       "      <td>17.135220</td>\n",
       "      <td>4</td>\n",
       "      <td>23</td>\n",
       "      <td>240.87</td>\n",
       "      <td>0</td>\n",
       "      <td>Desktop</td>\n",
       "      <td>Location 4</td>\n",
       "      <td>0-20</td>\n",
       "      <td>200+</td>\n",
       "    </tr>\n",
       "    <tr>\n",
       "      <th>3</th>\n",
       "      <td>4</td>\n",
       "      <td>21</td>\n",
       "      <td>9</td>\n",
       "      <td>29.589311</td>\n",
       "      <td>8</td>\n",
       "      <td>16</td>\n",
       "      <td>183.78</td>\n",
       "      <td>1</td>\n",
       "      <td>Desktop</td>\n",
       "      <td>Location 2</td>\n",
       "      <td>20-50</td>\n",
       "      <td>50-200</td>\n",
       "    </tr>\n",
       "    <tr>\n",
       "      <th>4</th>\n",
       "      <td>5</td>\n",
       "      <td>21</td>\n",
       "      <td>3</td>\n",
       "      <td>25.948584</td>\n",
       "      <td>4</td>\n",
       "      <td>10</td>\n",
       "      <td>59.51</td>\n",
       "      <td>1</td>\n",
       "      <td>Tablet</td>\n",
       "      <td>Location 4</td>\n",
       "      <td>20-50</td>\n",
       "      <td>50-200</td>\n",
       "    </tr>\n",
       "    <tr>\n",
       "      <th>...</th>\n",
       "      <td>...</td>\n",
       "      <td>...</td>\n",
       "      <td>...</td>\n",
       "      <td>...</td>\n",
       "      <td>...</td>\n",
       "      <td>...</td>\n",
       "      <td>...</td>\n",
       "      <td>...</td>\n",
       "      <td>...</td>\n",
       "      <td>...</td>\n",
       "      <td>...</td>\n",
       "      <td>...</td>\n",
       "    </tr>\n",
       "    <tr>\n",
       "      <th>4993</th>\n",
       "      <td>4994</td>\n",
       "      <td>42</td>\n",
       "      <td>1</td>\n",
       "      <td>21.218768</td>\n",
       "      <td>5</td>\n",
       "      <td>13</td>\n",
       "      <td>120.59</td>\n",
       "      <td>0</td>\n",
       "      <td>Desktop</td>\n",
       "      <td>Location 5</td>\n",
       "      <td>20-50</td>\n",
       "      <td>50-200</td>\n",
       "    </tr>\n",
       "    <tr>\n",
       "      <th>4994</th>\n",
       "      <td>4995</td>\n",
       "      <td>33</td>\n",
       "      <td>4</td>\n",
       "      <td>29.762098</td>\n",
       "      <td>9</td>\n",
       "      <td>20</td>\n",
       "      <td>185.60</td>\n",
       "      <td>1</td>\n",
       "      <td>Desktop</td>\n",
       "      <td>Location 1</td>\n",
       "      <td>20-50</td>\n",
       "      <td>50-200</td>\n",
       "    </tr>\n",
       "    <tr>\n",
       "      <th>4996</th>\n",
       "      <td>4997</td>\n",
       "      <td>31</td>\n",
       "      <td>4</td>\n",
       "      <td>44.700747</td>\n",
       "      <td>9</td>\n",
       "      <td>12</td>\n",
       "      <td>78.97</td>\n",
       "      <td>0</td>\n",
       "      <td>Tablet</td>\n",
       "      <td>Location 2</td>\n",
       "      <td>20-50</td>\n",
       "      <td>50-200</td>\n",
       "    </tr>\n",
       "    <tr>\n",
       "      <th>4997</th>\n",
       "      <td>4998</td>\n",
       "      <td>34</td>\n",
       "      <td>5</td>\n",
       "      <td>27.146624</td>\n",
       "      <td>7</td>\n",
       "      <td>19</td>\n",
       "      <td>139.42</td>\n",
       "      <td>1</td>\n",
       "      <td>Desktop</td>\n",
       "      <td>Location 4</td>\n",
       "      <td>20-50</td>\n",
       "      <td>50-200</td>\n",
       "    </tr>\n",
       "    <tr>\n",
       "      <th>4999</th>\n",
       "      <td>5000</td>\n",
       "      <td>63</td>\n",
       "      <td>2</td>\n",
       "      <td>28.484907</td>\n",
       "      <td>7</td>\n",
       "      <td>10</td>\n",
       "      <td>84.15</td>\n",
       "      <td>1</td>\n",
       "      <td>Tablet</td>\n",
       "      <td>Location 3</td>\n",
       "      <td>50-100</td>\n",
       "      <td>50-200</td>\n",
       "    </tr>\n",
       "  </tbody>\n",
       "</table>\n",
       "<p>4869 rows × 12 columns</p>\n",
       "</div>"
      ],
      "text/plain": [
       "      userID  age  sessions  time_spent  pages_visited  cart_items   \n",
       "0          1   62         3   13.295129              2          20  \\\n",
       "1          2   65         2   21.686405              3          21   \n",
       "2          3   18         7   17.135220              4          23   \n",
       "3          4   21         9   29.589311              8          16   \n",
       "4          5   21         3   25.948584              4          10   \n",
       "...      ...  ...       ...         ...            ...         ...   \n",
       "4993    4994   42         1   21.218768              5          13   \n",
       "4994    4995   33         4   29.762098              9          20   \n",
       "4996    4997   31         4   44.700747              9          12   \n",
       "4997    4998   34         5   27.146624              7          19   \n",
       "4999    5000   63         2   28.484907              7          10   \n",
       "\n",
       "      cart_value  checkout_status   device    location   age_1     val  \n",
       "0         199.21                0  Desktop  Location 1  50-100  50-200  \n",
       "1         294.82                0  Desktop  Location 3  50-100    200+  \n",
       "2         240.87                0  Desktop  Location 4    0-20    200+  \n",
       "3         183.78                1  Desktop  Location 2   20-50  50-200  \n",
       "4          59.51                1   Tablet  Location 4   20-50  50-200  \n",
       "...          ...              ...      ...         ...     ...     ...  \n",
       "4993      120.59                0  Desktop  Location 5   20-50  50-200  \n",
       "4994      185.60                1  Desktop  Location 1   20-50  50-200  \n",
       "4996       78.97                0   Tablet  Location 2   20-50  50-200  \n",
       "4997      139.42                1  Desktop  Location 4   20-50  50-200  \n",
       "4999       84.15                1   Tablet  Location 3  50-100  50-200  \n",
       "\n",
       "[4869 rows x 12 columns]"
      ]
     },
     "execution_count": 470,
     "metadata": {},
     "output_type": "execute_result"
    }
   ],
   "source": [
    "df"
   ]
  },
  {
   "cell_type": "code",
   "execution_count": 466,
   "metadata": {},
   "outputs": [],
   "source": [
    "grouped = df.groupby('age_1').agg({'cart_items': 'sum', 'checkout_status': lambda x: (x == 1).sum()})"
   ]
  },
  {
   "cell_type": "code",
   "execution_count": 467,
   "metadata": {},
   "outputs": [
    {
     "data": {
      "text/html": [
       "<div>\n",
       "<style scoped>\n",
       "    .dataframe tbody tr th:only-of-type {\n",
       "        vertical-align: middle;\n",
       "    }\n",
       "\n",
       "    .dataframe tbody tr th {\n",
       "        vertical-align: top;\n",
       "    }\n",
       "\n",
       "    .dataframe thead th {\n",
       "        text-align: right;\n",
       "    }\n",
       "</style>\n",
       "<table border=\"1\" class=\"dataframe\">\n",
       "  <thead>\n",
       "    <tr style=\"text-align: right;\">\n",
       "      <th></th>\n",
       "      <th>cart_items</th>\n",
       "      <th>checkout_status</th>\n",
       "    </tr>\n",
       "    <tr>\n",
       "      <th>age_1</th>\n",
       "      <th></th>\n",
       "      <th></th>\n",
       "    </tr>\n",
       "  </thead>\n",
       "  <tbody>\n",
       "    <tr>\n",
       "      <th>0-20</th>\n",
       "      <td>3275</td>\n",
       "      <td>58</td>\n",
       "    </tr>\n",
       "    <tr>\n",
       "      <th>20-50</th>\n",
       "      <td>44736</td>\n",
       "      <td>845</td>\n",
       "    </tr>\n",
       "    <tr>\n",
       "      <th>50-100</th>\n",
       "      <td>24848</td>\n",
       "      <td>459</td>\n",
       "    </tr>\n",
       "  </tbody>\n",
       "</table>\n",
       "</div>"
      ],
      "text/plain": [
       "        cart_items  checkout_status\n",
       "age_1                              \n",
       "0-20          3275               58\n",
       "20-50        44736              845\n",
       "50-100       24848              459"
      ]
     },
     "execution_count": 467,
     "metadata": {},
     "output_type": "execute_result"
    }
   ],
   "source": [
    "grouped"
   ]
  },
  {
   "cell_type": "code",
   "execution_count": 472,
   "metadata": {},
   "outputs": [
    {
     "data": {
      "text/html": [
       "<div>\n",
       "<style scoped>\n",
       "    .dataframe tbody tr th:only-of-type {\n",
       "        vertical-align: middle;\n",
       "    }\n",
       "\n",
       "    .dataframe tbody tr th {\n",
       "        vertical-align: top;\n",
       "    }\n",
       "\n",
       "    .dataframe thead th {\n",
       "        text-align: right;\n",
       "    }\n",
       "</style>\n",
       "<table border=\"1\" class=\"dataframe\">\n",
       "  <thead>\n",
       "    <tr style=\"text-align: right;\">\n",
       "      <th></th>\n",
       "      <th>cart_items</th>\n",
       "      <th>checkout_status</th>\n",
       "    </tr>\n",
       "    <tr>\n",
       "      <th>val</th>\n",
       "      <th></th>\n",
       "      <th></th>\n",
       "    </tr>\n",
       "  </thead>\n",
       "  <tbody>\n",
       "    <tr>\n",
       "      <th>0-50</th>\n",
       "      <td>1078</td>\n",
       "      <td>3</td>\n",
       "    </tr>\n",
       "    <tr>\n",
       "      <th>200+</th>\n",
       "      <td>25594</td>\n",
       "      <td>161</td>\n",
       "    </tr>\n",
       "    <tr>\n",
       "      <th>50-200</th>\n",
       "      <td>46187</td>\n",
       "      <td>1198</td>\n",
       "    </tr>\n",
       "  </tbody>\n",
       "</table>\n",
       "</div>"
      ],
      "text/plain": [
       "        cart_items  checkout_status\n",
       "val                                \n",
       "0-50          1078                3\n",
       "200+         25594              161\n",
       "50-200       46187             1198"
      ]
     },
     "execution_count": 472,
     "metadata": {},
     "output_type": "execute_result"
    }
   ],
   "source": [
    "grouped = df.groupby('val').agg({'cart_items': 'sum', 'checkout_status': lambda x: (x == 1).sum()})\n",
    "grouped"
   ]
  },
  {
   "cell_type": "code",
   "execution_count": 477,
   "metadata": {},
   "outputs": [
    {
     "data": {
      "text/html": [
       "<div>\n",
       "<style scoped>\n",
       "    .dataframe tbody tr th:only-of-type {\n",
       "        vertical-align: middle;\n",
       "    }\n",
       "\n",
       "    .dataframe tbody tr th {\n",
       "        vertical-align: top;\n",
       "    }\n",
       "\n",
       "    .dataframe thead th {\n",
       "        text-align: right;\n",
       "    }\n",
       "</style>\n",
       "<table border=\"1\" class=\"dataframe\">\n",
       "  <thead>\n",
       "    <tr style=\"text-align: right;\">\n",
       "      <th></th>\n",
       "      <th>cart_items</th>\n",
       "      <th>checkout_status</th>\n",
       "    </tr>\n",
       "    <tr>\n",
       "      <th>item</th>\n",
       "      <th></th>\n",
       "      <th></th>\n",
       "    </tr>\n",
       "  </thead>\n",
       "  <tbody>\n",
       "    <tr>\n",
       "      <th>0-10</th>\n",
       "      <td>8157</td>\n",
       "      <td>199</td>\n",
       "    </tr>\n",
       "    <tr>\n",
       "      <th>20+</th>\n",
       "      <td>31195</td>\n",
       "      <td>112</td>\n",
       "    </tr>\n",
       "    <tr>\n",
       "      <th>50-200</th>\n",
       "      <td>33507</td>\n",
       "      <td>1051</td>\n",
       "    </tr>\n",
       "  </tbody>\n",
       "</table>\n",
       "</div>"
      ],
      "text/plain": [
       "        cart_items  checkout_status\n",
       "item                               \n",
       "0-10          8157              199\n",
       "20+          31195              112\n",
       "50-200       33507             1051"
      ]
     },
     "execution_count": 477,
     "metadata": {},
     "output_type": "execute_result"
    }
   ],
   "source": [
    "grouped = df.groupby('item').agg({'cart_items': 'sum', 'checkout_status': lambda x: (x == 1).sum()})\n",
    "grouped"
   ]
  },
  {
   "attachments": {},
   "cell_type": "markdown",
   "metadata": {},
   "source": [
    "Based on the age, we find people age between 20-50 are buying more"
   ]
  },
  {
   "attachments": {},
   "cell_type": "markdown",
   "metadata": {},
   "source": [
    "1) Based on your analysis, what can you conclude about the behaviour or characteristics of users who complete check out vs those who do not?\n",
    "\n",
    "2) How did you prepare your data for analysis? Describe your data cleaning and preparation approaches, and why these were the best choices.\n",
    "\n",
    "3) What recommendations do you have for the product team? What should they do next? Be specific (i.e., who should they target, why and how)."
   ]
  },
  {
   "attachments": {},
   "cell_type": "markdown",
   "metadata": {},
   "source": [
    "# Q1\n",
    "Based on your findings, it seems that customers from Region 4 and those using desktop devices are more likely to make purchases. Conversely, tablet users and customers from Region 2 exhibit lower purchasing activity. Additionally, individuals between the ages of 20 and 50 demonstrate a higher inclination towards making purchases. These insights indicate that directing marketing and sales efforts towards customers in Region 4, desktop users, and individuals aged 20-50 may yield more favorable outcomes.\n",
    "\n",
    "Furthermore, it is interesting to note that customers in this target audience also have a preference for products priced between $50 and $200. Additionally, they tend to have items in their cart within the same price range. Considering these preferences, tailoring product offerings and marketing strategies to align with these price points could further enhance customer engagement and sales performance."
   ]
  },
  {
   "attachments": {},
   "cell_type": "markdown",
   "metadata": {},
   "source": [
    "# Q2\n",
    "Firstly, I removed any null values for device and location from the dataset. Next, I compared two methods: one for assigning the missing values to \"other,\" and the other for assigning them to the most frequently occurring values. Afterward, I employed box plots to identify and remove outliers, completing the data cleaning process.\n",
    "\n",
    "Subsequently, I performed statistical tests to examine the skewness and kurtosis of the data, which helped determine the data type. Additionally, I utilized an ANOVA test to analyze the relationship between customers using different devices and addresses. However, the analysis did not reveal any significant differences between these groups.\n",
    " "
   ]
  },
  {
   "attachments": {},
   "cell_type": "markdown",
   "metadata": {},
   "source": [
    "# Q3\n",
    "It is advisable for companies to prioritize their focus on desktop users as they constitute a significant portion of their user base. While tablet users may represent a smaller segment, it is still important to cater to their needs. Additionally, paying attention to users from location 4 should be a priority as they are more likely to make purchases. Similarly, targeting users between the ages of 20-50, who are typically the primary consumers, should also be a key consideration"
   ]
  },
  {
   "cell_type": "code",
   "execution_count": null,
   "metadata": {},
   "outputs": [],
   "source": []
  }
 ],
 "metadata": {
  "kernelspec": {
   "display_name": "Python 3",
   "language": "python",
   "name": "python3"
  },
  "language_info": {
   "codemirror_mode": {
    "name": "ipython",
    "version": 3
   },
   "file_extension": ".py",
   "mimetype": "text/x-python",
   "name": "python",
   "nbconvert_exporter": "python",
   "pygments_lexer": "ipython3",
   "version": "3.11.3"
  },
  "orig_nbformat": 4
 },
 "nbformat": 4,
 "nbformat_minor": 2
}
