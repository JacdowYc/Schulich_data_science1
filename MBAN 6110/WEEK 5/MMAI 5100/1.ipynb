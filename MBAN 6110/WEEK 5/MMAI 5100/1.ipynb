{
 "cells": [
  {
   "cell_type": "code",
   "execution_count": 1,
   "metadata": {},
   "outputs": [
    {
     "name": "stdout",
     "output_type": "stream",
     "text": [
      "Collecting scapy\n",
      "  Downloading scapy-2.5.0.tar.gz (1.3 MB)\n",
      "\u001b[2K     \u001b[90m━━━━━━━━━━━━━━━━━━━━━━━━━━━━━━━━━━━━━━━━\u001b[0m \u001b[32m1.3/1.3 MB\u001b[0m \u001b[31m7.5 MB/s\u001b[0m eta \u001b[36m0:00:00\u001b[0ma \u001b[36m0:00:01\u001b[0m\n",
      "\u001b[?25h  Preparing metadata (setup.py) ... \u001b[?25ldone\n",
      "\u001b[?25hInstalling collected packages: scapy\n",
      "\u001b[33m  DEPRECATION: scapy is being installed using the legacy 'setup.py install' method, because it does not have a 'pyproject.toml' and the 'wheel' package is not installed. pip 23.1 will enforce this behaviour change. A possible replacement is to enable the '--use-pep517' option. Discussion can be found at https://github.com/pypa/pip/issues/8559\u001b[0m\u001b[33m\n",
      "\u001b[0m  Running setup.py install for scapy ... \u001b[?25ldone\n",
      "\u001b[?25hSuccessfully installed scapy-2.5.0\n",
      "\n",
      "\u001b[1m[\u001b[0m\u001b[34;49mnotice\u001b[0m\u001b[1;39;49m]\u001b[0m\u001b[39;49m A new release of pip available: \u001b[0m\u001b[31;49m22.3.1\u001b[0m\u001b[39;49m -> \u001b[0m\u001b[32;49m23.2.1\u001b[0m\n",
      "\u001b[1m[\u001b[0m\u001b[34;49mnotice\u001b[0m\u001b[1;39;49m]\u001b[0m\u001b[39;49m To update, run: \u001b[0m\u001b[32;49mpip3 install --upgrade pip\u001b[0m\n",
      "Note: you may need to restart the kernel to use updated packages.\n"
     ]
    }
   ],
   "source": [
    "pip install scapy\n"
   ]
  },
  {
   "cell_type": "code",
   "execution_count": 2,
   "metadata": {},
   "outputs": [
    {
     "name": "stderr",
     "output_type": "stream",
     "text": [
      "WARNING: No IPv4 address found on anpi0 !\n",
      "WARNING: No IPv4 address found on anpi1 !\n",
      "WARNING: more No IPv4 address found on en3 !\n"
     ]
    },
    {
     "ename": "Scapy_Exception",
     "evalue": "Not a supported capture file",
     "output_type": "error",
     "traceback": [
      "\u001b[0;31m---------------------------------------------------------------------------\u001b[0m",
      "\u001b[0;31mScapy_Exception\u001b[0m                           Traceback (most recent call last)",
      "Cell \u001b[0;32mIn[2], line 17\u001b[0m\n\u001b[1;32m     15\u001b[0m \u001b[39m# 将 \"your_file.cap\" 替换为您的 \".cap\" 文件路径\u001b[39;00m\n\u001b[1;32m     16\u001b[0m file_path \u001b[39m=\u001b[39m \u001b[39m\"\u001b[39m\u001b[39m/Users/yuchenzhang/Desktop/T_WOCN20_C_CWTO_202307310116_4022761201 (1).cap\u001b[39m\u001b[39m\"\u001b[39m\n\u001b[0;32m---> 17\u001b[0m read_cap_file(file_path)\n",
      "Cell \u001b[0;32mIn[2], line 9\u001b[0m, in \u001b[0;36mread_cap_file\u001b[0;34m(file_path)\u001b[0m\n\u001b[1;32m      7\u001b[0m \u001b[39mdef\u001b[39;00m \u001b[39mread_cap_file\u001b[39m(file_path):\n\u001b[1;32m      8\u001b[0m     \u001b[39mtry\u001b[39;00m:\n\u001b[0;32m----> 9\u001b[0m         packets \u001b[39m=\u001b[39m rdpcap(file_path)\n\u001b[1;32m     10\u001b[0m         \u001b[39mfor\u001b[39;00m packet \u001b[39min\u001b[39;00m packets:\n\u001b[1;32m     11\u001b[0m             process_packet(packet)\n",
      "File \u001b[0;32m/Library/Frameworks/Python.framework/Versions/3.11/lib/python3.11/site-packages/scapy/utils.py:1144\u001b[0m, in \u001b[0;36mrdpcap\u001b[0;34m(filename, count)\u001b[0m\n\u001b[1;32m   1136\u001b[0m \u001b[39m\u001b[39m\u001b[39m\"\"\"Read a pcap or pcapng file and return a packet list\u001b[39;00m\n\u001b[1;32m   1137\u001b[0m \n\u001b[1;32m   1138\u001b[0m \u001b[39m:param count: read only <count> packets\u001b[39;00m\n\u001b[1;32m   1139\u001b[0m \u001b[39m\"\"\"\u001b[39;00m\n\u001b[1;32m   1140\u001b[0m \u001b[39m# Rant: Our complicated use of metaclasses and especially the\u001b[39;00m\n\u001b[1;32m   1141\u001b[0m \u001b[39m# __call__ function is, of course, not supported by MyPy.\u001b[39;00m\n\u001b[1;32m   1142\u001b[0m \u001b[39m# One day we should simplify this mess and use a much simpler\u001b[39;00m\n\u001b[1;32m   1143\u001b[0m \u001b[39m# layout that will actually be supported and properly dissected.\u001b[39;00m\n\u001b[0;32m-> 1144\u001b[0m \u001b[39mwith\u001b[39;00m PcapReader(filename) \u001b[39mas\u001b[39;00m fdesc:  \u001b[39m# type: ignore\u001b[39;00m\n\u001b[1;32m   1145\u001b[0m     \u001b[39mreturn\u001b[39;00m fdesc\u001b[39m.\u001b[39mread_all(count\u001b[39m=\u001b[39mcount)\n",
      "File \u001b[0;32m/Library/Frameworks/Python.framework/Versions/3.11/lib/python3.11/site-packages/scapy/utils.py:1199\u001b[0m, in \u001b[0;36mPcapReader_metaclass.__call__\u001b[0;34m(cls, filename)\u001b[0m\n\u001b[1;32m   1196\u001b[0m     \u001b[39mexcept\u001b[39;00m (Scapy_Exception, \u001b[39mEOFError\u001b[39;00m):\n\u001b[1;32m   1197\u001b[0m         \u001b[39mpass\u001b[39;00m\n\u001b[0;32m-> 1199\u001b[0m \u001b[39mraise\u001b[39;00m Scapy_Exception(\u001b[39m\"\u001b[39m\u001b[39mNot a supported capture file\u001b[39m\u001b[39m\"\u001b[39m)\n",
      "\u001b[0;31mScapy_Exception\u001b[0m: Not a supported capture file"
     ]
    }
   ],
   "source": [
    "from scapy.all import *\n",
    "\n",
    "def process_packet(packet):\n",
    "    # 在这里进行数据包处理，您可以根据需要提取或分析数据包中的信息\n",
    "    print(packet.summary())\n",
    "\n",
    "def read_cap_file(file_path):\n",
    "    try:\n",
    "        packets = rdpcap(file_path)\n",
    "        for packet in packets:\n",
    "            process_packet(packet)\n",
    "    except FileNotFoundError:\n",
    "        print(\"文件未找到，请检查文件路径。\")\n",
    "\n",
    "# 将 \"your_file.cap\" 替换为您的 \".cap\" 文件路径\n",
    "file_path = \"/Users/yuchenzhang/Desktop/T_WOCN20_C_CWTO_202307310116_4022761201 (1).cap\"\n",
    "read_cap_file(file_path)\n"
   ]
  },
  {
   "cell_type": "code",
   "execution_count": null,
   "metadata": {},
   "outputs": [],
   "source": []
  }
 ],
 "metadata": {
  "kernelspec": {
   "display_name": "Python 3",
   "language": "python",
   "name": "python3"
  },
  "language_info": {
   "codemirror_mode": {
    "name": "ipython",
    "version": 3
   },
   "file_extension": ".py",
   "mimetype": "text/x-python",
   "name": "python",
   "nbconvert_exporter": "python",
   "pygments_lexer": "ipython3",
   "version": "3.11.3"
  },
  "orig_nbformat": 4
 },
 "nbformat": 4,
 "nbformat_minor": 2
}
