{
 "cells": [
  {
   "cell_type": "code",
   "execution_count": 811,
   "metadata": {},
   "outputs": [],
   "source": [
    "# Import all applicable python libraries, and then begin data cleaning"
   ]
  },
  {
   "cell_type": "code",
   "execution_count": 812,
   "metadata": {},
   "outputs": [],
   "source": [
    "import pandas as pd\n",
    "import numpy as np\n",
    "import matplotlib.pyplot as plt\n",
    "import seaborn as sns\n"
   ]
  },
  {
   "cell_type": "code",
   "execution_count": 813,
   "metadata": {},
   "outputs": [],
   "source": [
    "df = pd.read_csv('/Users/yuchenzhang/Desktop/MBAN 6110/Assignment 1/sales_data (1).csv')"
   ]
  },
  {
   "cell_type": "code",
   "execution_count": 814,
   "metadata": {},
   "outputs": [
    {
     "data": {
      "text/html": [
       "<div>\n",
       "<style scoped>\n",
       "    .dataframe tbody tr th:only-of-type {\n",
       "        vertical-align: middle;\n",
       "    }\n",
       "\n",
       "    .dataframe tbody tr th {\n",
       "        vertical-align: top;\n",
       "    }\n",
       "\n",
       "    .dataframe thead th {\n",
       "        text-align: right;\n",
       "    }\n",
       "</style>\n",
       "<table border=\"1\" class=\"dataframe\">\n",
       "  <thead>\n",
       "    <tr style=\"text-align: right;\">\n",
       "      <th></th>\n",
       "      <th>Product</th>\n",
       "      <th>Region</th>\n",
       "      <th>Price</th>\n",
       "      <th>Units Sold</th>\n",
       "      <th>Sale Date</th>\n",
       "    </tr>\n",
       "  </thead>\n",
       "  <tbody>\n",
       "    <tr>\n",
       "      <th>0</th>\n",
       "      <td>NaN</td>\n",
       "      <td>Region_1</td>\n",
       "      <td>72.87</td>\n",
       "      <td>10.0</td>\n",
       "      <td>2022-01-01</td>\n",
       "    </tr>\n",
       "    <tr>\n",
       "      <th>1</th>\n",
       "      <td>Product_40</td>\n",
       "      <td>Region_2</td>\n",
       "      <td>46.19</td>\n",
       "      <td>10.0</td>\n",
       "      <td>2022-01-02</td>\n",
       "    </tr>\n",
       "    <tr>\n",
       "      <th>2</th>\n",
       "      <td>Product_1</td>\n",
       "      <td>Region_5</td>\n",
       "      <td>NaN</td>\n",
       "      <td>4.0</td>\n",
       "      <td>2022-01-03</td>\n",
       "    </tr>\n",
       "    <tr>\n",
       "      <th>3</th>\n",
       "      <td>Product_6</td>\n",
       "      <td>Region_8</td>\n",
       "      <td>143.47</td>\n",
       "      <td>8.0</td>\n",
       "      <td>2022-01-04</td>\n",
       "    </tr>\n",
       "    <tr>\n",
       "      <th>4</th>\n",
       "      <td>Product_44</td>\n",
       "      <td>Region_4</td>\n",
       "      <td>122.54</td>\n",
       "      <td>10.0</td>\n",
       "      <td>2022-01-05</td>\n",
       "    </tr>\n",
       "    <tr>\n",
       "      <th>...</th>\n",
       "      <td>...</td>\n",
       "      <td>...</td>\n",
       "      <td>...</td>\n",
       "      <td>...</td>\n",
       "      <td>...</td>\n",
       "    </tr>\n",
       "    <tr>\n",
       "      <th>1045</th>\n",
       "      <td>Product_42</td>\n",
       "      <td>Region_3</td>\n",
       "      <td>18.63</td>\n",
       "      <td>9.0</td>\n",
       "      <td>2023-07-10</td>\n",
       "    </tr>\n",
       "    <tr>\n",
       "      <th>1046</th>\n",
       "      <td>Product_4</td>\n",
       "      <td>Region_3</td>\n",
       "      <td>159.27</td>\n",
       "      <td>10.0</td>\n",
       "      <td>2024-07-14</td>\n",
       "    </tr>\n",
       "    <tr>\n",
       "      <th>1047</th>\n",
       "      <td>Product_43</td>\n",
       "      <td>Region_1</td>\n",
       "      <td>2.91</td>\n",
       "      <td>13.0</td>\n",
       "      <td>2023-08-17</td>\n",
       "    </tr>\n",
       "    <tr>\n",
       "      <th>1048</th>\n",
       "      <td>Product_27</td>\n",
       "      <td>Region_7</td>\n",
       "      <td>1.96</td>\n",
       "      <td>8.0</td>\n",
       "      <td>2024-03-10</td>\n",
       "    </tr>\n",
       "    <tr>\n",
       "      <th>1049</th>\n",
       "      <td>Product_3</td>\n",
       "      <td>NaN</td>\n",
       "      <td>302.68</td>\n",
       "      <td>11.0</td>\n",
       "      <td>2023-09-09</td>\n",
       "    </tr>\n",
       "  </tbody>\n",
       "</table>\n",
       "<p>1050 rows × 5 columns</p>\n",
       "</div>"
      ],
      "text/plain": [
       "         Product    Region   Price  Units Sold   Sale Date\n",
       "0            NaN  Region_1   72.87        10.0  2022-01-01\n",
       "1     Product_40  Region_2   46.19        10.0  2022-01-02\n",
       "2      Product_1  Region_5     NaN         4.0  2022-01-03\n",
       "3      Product_6  Region_8  143.47         8.0  2022-01-04\n",
       "4     Product_44  Region_4  122.54        10.0  2022-01-05\n",
       "...          ...       ...     ...         ...         ...\n",
       "1045  Product_42  Region_3   18.63         9.0  2023-07-10\n",
       "1046   Product_4  Region_3  159.27        10.0  2024-07-14\n",
       "1047  Product_43  Region_1    2.91        13.0  2023-08-17\n",
       "1048  Product_27  Region_7    1.96         8.0  2024-03-10\n",
       "1049   Product_3       NaN  302.68        11.0  2023-09-09\n",
       "\n",
       "[1050 rows x 5 columns]"
      ]
     },
     "execution_count": 814,
     "metadata": {},
     "output_type": "execute_result"
    }
   ],
   "source": [
    "df"
   ]
  },
  {
   "cell_type": "code",
   "execution_count": 815,
   "metadata": {},
   "outputs": [
    {
     "name": "stdout",
     "output_type": "stream",
     "text": [
      "<class 'pandas.core.frame.DataFrame'>\n",
      "RangeIndex: 1050 entries, 0 to 1049\n",
      "Data columns (total 5 columns):\n",
      " #   Column      Non-Null Count  Dtype  \n",
      "---  ------      --------------  -----  \n",
      " 0   Product     947 non-null    object \n",
      " 1   Region      942 non-null    object \n",
      " 2   Price       945 non-null    float64\n",
      " 3   Units Sold  943 non-null    float64\n",
      " 4   Sale Date   1050 non-null   object \n",
      "dtypes: float64(2), object(3)\n",
      "memory usage: 41.1+ KB\n"
     ]
    }
   ],
   "source": [
    "df.info()"
   ]
  },
  {
   "cell_type": "code",
   "execution_count": 816,
   "metadata": {},
   "outputs": [
    {
     "data": {
      "text/plain": [
       "<Axes: xlabel='Units Sold', ylabel='Count'>"
      ]
     },
     "execution_count": 816,
     "metadata": {},
     "output_type": "execute_result"
    },
    {
     "data": {
      "image/png": "[encoded data removed]",
      "text/plain": [
       "<Figure size 640x480 with 1 Axes>"
      ]
     },
     "metadata": {},
     "output_type": "display_data"
    }
   ],
   "source": [
    "# Check for outlier by histplot\n",
    "sns.histplot(df['Units Sold'])   # looks like normal distrbution, seems no outlier"
   ]
  },
  {
   "cell_type": "code",
   "execution_count": 817,
   "metadata": {},
   "outputs": [],
   "source": [
    "# Data Cleaing\n",
    "# Step 1"
   ]
  },
  {
   "cell_type": "code",
   "execution_count": 818,
   "metadata": {},
   "outputs": [],
   "source": [
    "df['Price'] = df['Price'].fillna(df.groupby('Product')['Price'].transform('median'))\n"
   ]
  },
  {
   "cell_type": "code",
   "execution_count": 819,
   "metadata": {},
   "outputs": [],
   "source": [
    "df['Units Sold'] = df['Units Sold'].fillna(df.groupby('Product')['Units Sold'].transform('median'))"
   ]
  },
  {
   "cell_type": "code",
   "execution_count": 820,
   "metadata": {},
   "outputs": [
    {
     "name": "stdout",
     "output_type": "stream",
     "text": [
      "<class 'pandas.core.frame.DataFrame'>\n",
      "RangeIndex: 1050 entries, 0 to 1049\n",
      "Data columns (total 5 columns):\n",
      " #   Column      Non-Null Count  Dtype  \n",
      "---  ------      --------------  -----  \n",
      " 0   Product     947 non-null    object \n",
      " 1   Region      942 non-null    object \n",
      " 2   Price       1039 non-null   float64\n",
      " 3   Units Sold  1040 non-null   float64\n",
      " 4   Sale Date   1050 non-null   object \n",
      "dtypes: float64(2), object(3)\n",
      "memory usage: 41.1+ KB\n"
     ]
    }
   ],
   "source": [
    "df.info()"
   ]
  },
  {
   "cell_type": "code",
   "execution_count": 821,
   "metadata": {},
   "outputs": [],
   "source": [
    "# Step 2\n",
    "# Drop missing value"
   ]
  },
  {
   "cell_type": "code",
   "execution_count": 822,
   "metadata": {},
   "outputs": [],
   "source": [
    "df.dropna(subset=['Product', 'Region', 'Price', 'Units Sold'],inplace=True)"
   ]
  },
  {
   "cell_type": "code",
   "execution_count": 823,
   "metadata": {},
   "outputs": [
    {
     "name": "stdout",
     "output_type": "stream",
     "text": [
      "<class 'pandas.core.frame.DataFrame'>\n",
      "Index: 851 entries, 1 to 1048\n",
      "Data columns (total 5 columns):\n",
      " #   Column      Non-Null Count  Dtype  \n",
      "---  ------      --------------  -----  \n",
      " 0   Product     851 non-null    object \n",
      " 1   Region      851 non-null    object \n",
      " 2   Price       851 non-null    float64\n",
      " 3   Units Sold  851 non-null    float64\n",
      " 4   Sale Date   851 non-null    object \n",
      "dtypes: float64(2), object(3)\n",
      "memory usage: 39.9+ KB\n"
     ]
    }
   ],
   "source": [
    "df.info()"
   ]
  },
  {
   "cell_type": "code",
   "execution_count": 824,
   "metadata": {},
   "outputs": [
    {
     "data": {
      "text/html": [
       "<div>\n",
       "<style scoped>\n",
       "    .dataframe tbody tr th:only-of-type {\n",
       "        vertical-align: middle;\n",
       "    }\n",
       "\n",
       "    .dataframe tbody tr th {\n",
       "        vertical-align: top;\n",
       "    }\n",
       "\n",
       "    .dataframe thead th {\n",
       "        text-align: right;\n",
       "    }\n",
       "</style>\n",
       "<table border=\"1\" class=\"dataframe\">\n",
       "  <thead>\n",
       "    <tr style=\"text-align: right;\">\n",
       "      <th></th>\n",
       "      <th>Product</th>\n",
       "      <th>Region</th>\n",
       "      <th>Price</th>\n",
       "      <th>Units Sold</th>\n",
       "      <th>Sale Date</th>\n",
       "    </tr>\n",
       "  </thead>\n",
       "  <tbody>\n",
       "    <tr>\n",
       "      <th>1</th>\n",
       "      <td>Product_40</td>\n",
       "      <td>Region_2</td>\n",
       "      <td>46.19</td>\n",
       "      <td>10.0</td>\n",
       "      <td>2022-01-02</td>\n",
       "    </tr>\n",
       "    <tr>\n",
       "      <th>2</th>\n",
       "      <td>Product_1</td>\n",
       "      <td>Region_5</td>\n",
       "      <td>75.88</td>\n",
       "      <td>4.0</td>\n",
       "      <td>2022-01-03</td>\n",
       "    </tr>\n",
       "    <tr>\n",
       "      <th>3</th>\n",
       "      <td>Product_6</td>\n",
       "      <td>Region_8</td>\n",
       "      <td>143.47</td>\n",
       "      <td>8.0</td>\n",
       "      <td>2022-01-04</td>\n",
       "    </tr>\n",
       "    <tr>\n",
       "      <th>4</th>\n",
       "      <td>Product_44</td>\n",
       "      <td>Region_4</td>\n",
       "      <td>122.54</td>\n",
       "      <td>10.0</td>\n",
       "      <td>2022-01-05</td>\n",
       "    </tr>\n",
       "    <tr>\n",
       "      <th>5</th>\n",
       "      <td>Product_21</td>\n",
       "      <td>Region_8</td>\n",
       "      <td>15.76</td>\n",
       "      <td>20.0</td>\n",
       "      <td>2022-01-06</td>\n",
       "    </tr>\n",
       "    <tr>\n",
       "      <th>...</th>\n",
       "      <td>...</td>\n",
       "      <td>...</td>\n",
       "      <td>...</td>\n",
       "      <td>...</td>\n",
       "      <td>...</td>\n",
       "    </tr>\n",
       "    <tr>\n",
       "      <th>1044</th>\n",
       "      <td>Product_39</td>\n",
       "      <td>Region_6</td>\n",
       "      <td>239.07</td>\n",
       "      <td>10.0</td>\n",
       "      <td>2023-05-18</td>\n",
       "    </tr>\n",
       "    <tr>\n",
       "      <th>1045</th>\n",
       "      <td>Product_42</td>\n",
       "      <td>Region_3</td>\n",
       "      <td>18.63</td>\n",
       "      <td>9.0</td>\n",
       "      <td>2023-07-10</td>\n",
       "    </tr>\n",
       "    <tr>\n",
       "      <th>1046</th>\n",
       "      <td>Product_4</td>\n",
       "      <td>Region_3</td>\n",
       "      <td>159.27</td>\n",
       "      <td>10.0</td>\n",
       "      <td>2024-07-14</td>\n",
       "    </tr>\n",
       "    <tr>\n",
       "      <th>1047</th>\n",
       "      <td>Product_43</td>\n",
       "      <td>Region_1</td>\n",
       "      <td>2.91</td>\n",
       "      <td>13.0</td>\n",
       "      <td>2023-08-17</td>\n",
       "    </tr>\n",
       "    <tr>\n",
       "      <th>1048</th>\n",
       "      <td>Product_27</td>\n",
       "      <td>Region_7</td>\n",
       "      <td>1.96</td>\n",
       "      <td>8.0</td>\n",
       "      <td>2024-03-10</td>\n",
       "    </tr>\n",
       "  </tbody>\n",
       "</table>\n",
       "<p>851 rows × 5 columns</p>\n",
       "</div>"
      ],
      "text/plain": [
       "         Product    Region   Price  Units Sold   Sale Date\n",
       "1     Product_40  Region_2   46.19        10.0  2022-01-02\n",
       "2      Product_1  Region_5   75.88         4.0  2022-01-03\n",
       "3      Product_6  Region_8  143.47         8.0  2022-01-04\n",
       "4     Product_44  Region_4  122.54        10.0  2022-01-05\n",
       "5     Product_21  Region_8   15.76        20.0  2022-01-06\n",
       "...          ...       ...     ...         ...         ...\n",
       "1044  Product_39  Region_6  239.07        10.0  2023-05-18\n",
       "1045  Product_42  Region_3   18.63         9.0  2023-07-10\n",
       "1046   Product_4  Region_3  159.27        10.0  2024-07-14\n",
       "1047  Product_43  Region_1    2.91        13.0  2023-08-17\n",
       "1048  Product_27  Region_7    1.96         8.0  2024-03-10\n",
       "\n",
       "[851 rows x 5 columns]"
      ]
     },
     "execution_count": 824,
     "metadata": {},
     "output_type": "execute_result"
    }
   ],
   "source": [
    "df"
   ]
  },
  {
   "cell_type": "code",
   "execution_count": 825,
   "metadata": {},
   "outputs": [],
   "source": [
    "# Step 3\n",
    "# Total Analysis"
   ]
  },
  {
   "cell_type": "code",
   "execution_count": 826,
   "metadata": {},
   "outputs": [],
   "source": [
    "product_sales = df['Units Sold'] * df['Price']\n",
    "total_sales = product_sales.groupby(df['Product']).sum()\n",
    "Region_sales = product_sales.groupby(df['Region']).sum()"
   ]
  },
  {
   "cell_type": "code",
   "execution_count": 827,
   "metadata": {},
   "outputs": [],
   "source": [
    "Pop_sale = df.groupby('Product')['Units Sold'].sum()"
   ]
  },
  {
   "cell_type": "code",
   "execution_count": 828,
   "metadata": {},
   "outputs": [],
   "source": [
    "Region_pop_sale = df.groupby('Region')['Units Sold'].sum()"
   ]
  },
  {
   "attachments": {},
   "cell_type": "markdown",
   "metadata": {},
   "source": [
    "The top five most popular product!"
   ]
  },
  {
   "cell_type": "code",
   "execution_count": 829,
   "metadata": {},
   "outputs": [
    {
     "data": {
      "text/plain": [
       "Product\n",
       "Product_24    289.0\n",
       "Product_4     264.0\n",
       "Product_8     263.5\n",
       "Product_40    243.0\n",
       "Product_43    233.0\n",
       "Name: Units Sold, dtype: float64"
      ]
     },
     "execution_count": 829,
     "metadata": {},
     "output_type": "execute_result"
    }
   ],
   "source": [
    "Pop_sale.sort_values(ascending=False).head()"
   ]
  },
  {
   "attachments": {},
   "cell_type": "markdown",
   "metadata": {},
   "source": [
    "The top five most profitable products ！"
   ]
  },
  {
   "cell_type": "code",
   "execution_count": 830,
   "metadata": {},
   "outputs": [
    {
     "data": {
      "text/plain": [
       "Product\n",
       "Product_34    53792.025\n",
       "Product_49    40547.710\n",
       "Product_27    35928.350\n",
       "Product_50    33208.100\n",
       "Product_23    29406.950\n",
       "dtype: float64"
      ]
     },
     "execution_count": 830,
     "metadata": {},
     "output_type": "execute_result"
    }
   ],
   "source": [
    "total_sales.sort_values(ascending=False).head()  # The top five most profitable products"
   ]
  },
  {
   "attachments": {},
   "cell_type": "markdown",
   "metadata": {},
   "source": [
    "The region that sold for the most money ！\n"
   ]
  },
  {
   "cell_type": "code",
   "execution_count": 831,
   "metadata": {},
   "outputs": [
    {
     "data": {
      "text/plain": [
       "Region\n",
       "Region_2     132398.140\n",
       "Region_8     104736.430\n",
       "Region_5      98142.630\n",
       "Region_10     92169.730\n",
       "Region_7      86288.985\n",
       "dtype: float64"
      ]
     },
     "execution_count": 831,
     "metadata": {},
     "output_type": "execute_result"
    }
   ],
   "source": [
    "Region_sales.sort_values(ascending=False).head()  # The region that sold for the most money"
   ]
  },
  {
   "attachments": {},
   "cell_type": "markdown",
   "metadata": {},
   "source": [
    "The region that sold for the most product ！"
   ]
  },
  {
   "cell_type": "code",
   "execution_count": 832,
   "metadata": {},
   "outputs": [
    {
     "data": {
      "text/plain": [
       "Region\n",
       "Region_5    983.5\n",
       "Region_7    947.5\n",
       "Region_2    918.5\n",
       "Region_8    892.0\n",
       "Region_9    887.0\n",
       "Name: Units Sold, dtype: float64"
      ]
     },
     "execution_count": 832,
     "metadata": {},
     "output_type": "execute_result"
    }
   ],
   "source": [
    "Region_pop_sale.sort_values(ascending=False).head()  # The region that sold for the most product"
   ]
  },
  {
   "attachments": {},
   "cell_type": "markdown",
   "metadata": {},
   "source": [
    "Base on those analysis, we can find that product 24 are the most popular one. Product 34 are most profitable. Region 2 sold for the most money. Region 5 were sold most product. \n"
   ]
  },
  {
   "cell_type": "code",
   "execution_count": 833,
   "metadata": {},
   "outputs": [],
   "source": [
    "# Step 4\n",
    "# Year analysis"
   ]
  },
  {
   "cell_type": "code",
   "execution_count": 834,
   "metadata": {},
   "outputs": [],
   "source": [
    "df['Sale Date'] = pd.to_datetime(df['Sale Date'])"
   ]
  },
  {
   "cell_type": "code",
   "execution_count": 835,
   "metadata": {},
   "outputs": [],
   "source": [
    "df['Year'] = df['Sale Date'].dt.year"
   ]
  },
  {
   "cell_type": "code",
   "execution_count": 836,
   "metadata": {},
   "outputs": [],
   "source": [
    "data_by_year = {}\n",
    "for year, data in df.groupby('Year'):\n",
    "    data_by_year[year] = data"
   ]
  },
  {
   "cell_type": "code",
   "execution_count": 837,
   "metadata": {},
   "outputs": [],
   "source": [
    "Year_sales = product_sales.groupby(df['Year']).sum()"
   ]
  },
  {
   "cell_type": "markdown",
   "metadata": {},
   "source": [
    "Year Rank"
   ]
  },
  {
   "cell_type": "code",
   "execution_count": 838,
   "metadata": {},
   "outputs": [
    {
     "data": {
      "text/plain": [
       "Year\n",
       "2022    319510.755\n",
       "2023    344632.765\n",
       "2024    234563.235\n",
       "dtype: float64"
      ]
     },
     "execution_count": 838,
     "metadata": {},
     "output_type": "execute_result"
    }
   ],
   "source": [
    "Year_sales.sort_index(ascending=True).head() "
   ]
  },
  {
   "attachments": {},
   "cell_type": "markdown",
   "metadata": {},
   "source": [
    "There is 7.28% increases in sales during 2022 ~  2023 "
   ]
  },
  {
   "cell_type": "code",
   "execution_count": 840,
   "metadata": {},
   "outputs": [
    {
     "data": {
      "text/plain": [
       "7.289501333397598"
      ]
     },
     "execution_count": 840,
     "metadata": {},
     "output_type": "execute_result"
    }
   ],
   "source": [
    "(Year_sales.iloc[1] - Year_sales.iloc[0]) / Year_sales.iloc[1] * 100 "
   ]
  },
  {
   "attachments": {},
   "cell_type": "markdown",
   "metadata": {},
   "source": [
    "There is 46.93% decreases in sales during 2023 ~  2024, We have to find the reason why!"
   ]
  },
  {
   "cell_type": "code",
   "execution_count": 841,
   "metadata": {},
   "outputs": [
    {
     "data": {
      "text/plain": [
       "-46.92531205924065"
      ]
     },
     "execution_count": 841,
     "metadata": {},
     "output_type": "execute_result"
    }
   ],
   "source": [
    "(Year_sales.iloc[2] - Year_sales.iloc[1]) / Year_sales.iloc[2] * 100 "
   ]
  },
  {
   "cell_type": "code",
   "execution_count": 842,
   "metadata": {},
   "outputs": [],
   "source": [
    "index_22 = df['Year'] == 2022\n",
    "index_23 = df['Year'] == 2023\n",
    "index_24 = df['Year'] == 2024"
   ]
  },
  {
   "cell_type": "code",
   "execution_count": 843,
   "metadata": {},
   "outputs": [],
   "source": [
    "Year_Pop_sale_22 = df[index_22].groupby(['Product'])['Units Sold'].sum()\n",
    "Year_Pop_sale_23 = df[index_23].groupby(['Product'])['Units Sold'].sum()\n",
    "Year_Pop_sale_24 = df[index_24].groupby(['Product'])['Units Sold'].sum()"
   ]
  },
  {
   "cell_type": "code",
   "execution_count": 844,
   "metadata": {},
   "outputs": [],
   "source": [
    "Year_R_sale_22 = df[index_22].groupby(['Region'])['Units Sold'].sum()\n",
    "Year_R_sale_23 = df[index_23].groupby(['Region'])['Units Sold'].sum()\n",
    "Year_R_sale_24 = df[index_24].groupby(['Region'])['Units Sold'].sum()"
   ]
  },
  {
   "cell_type": "code",
   "execution_count": 870,
   "metadata": {},
   "outputs": [],
   "source": [
    "pd.DataFrame(Year_Pop_sale_22)\n",
    "pd.DataFrame(Year_Pop_sale_23)\n",
    "pd.DataFrame(Year_Pop_sale_24)\n",
    "P_22_23 = ((Year_Pop_sale_23 - Year_Pop_sale_22) / Year_Pop_sale_23)\n",
    "P_23_24 = ((Year_Pop_sale_24 - Year_Pop_sale_23) / Year_Pop_sale_24)"
   ]
  },
  {
   "cell_type": "code",
   "execution_count": 900,
   "metadata": {},
   "outputs": [
    {
     "data": {
      "text/plain": [
       "42.0"
      ]
     },
     "execution_count": 900,
     "metadata": {},
     "output_type": "execute_result"
    }
   ],
   "source": [
    "positive_count_22_23 = len(P_22_23[P_22_23 > 0])   # The number of positive increases in product\n",
    "positive_count_22_23\n",
    "(positive_count_22_23 / len(P_22_23)) * 100   # 42% of sales in product are increases / 58% of decreased\n",
    "\n"
   ]
  },
  {
   "cell_type": "code",
   "execution_count": 899,
   "metadata": {},
   "outputs": [
    {
     "data": {
      "text/plain": [
       "30.0"
      ]
     },
     "execution_count": 899,
     "metadata": {},
     "output_type": "execute_result"
    }
   ],
   "source": [
    "positive_count_23_24 = len(P_23_24[P_23_24 > 0])\n",
    "positive_count_23_24\n",
    "(positive_count_23_24 / len(P_23_24)) * 100   # 30% of sales in product are increases / 70 % are decreased"
   ]
  },
  {
   "cell_type": "code",
   "execution_count": 845,
   "metadata": {},
   "outputs": [
    {
     "data": {
      "text/plain": [
       "Region\n",
       "Region_8    379.0\n",
       "Region_5    372.5\n",
       "Region_7    359.5\n",
       "Region_9    339.0\n",
       "Region_2    328.5\n",
       "Name: Units Sold, dtype: float64"
      ]
     },
     "execution_count": 845,
     "metadata": {},
     "output_type": "execute_result"
    }
   ],
   "source": [
    "Year_R_sale_22.sort_values(ascending=False).head()"
   ]
  },
  {
   "cell_type": "code",
   "execution_count": 846,
   "metadata": {},
   "outputs": [],
   "source": [
    "pd.DataFrame(Year_R_sale_22)\n",
    "pd.DataFrame(Year_R_sale_23)\n",
    "pd.DataFrame(Year_R_sale_24)\n",
    "Y_22_23_R8 = (Year_R_sale_23.loc['Region_8'] - Year_R_sale_22.loc['Region_8']) / Year_R_sale_23.loc['Region_8']\n",
    "\n",
    "Y_23_24_R1 = (Year_R_sale_24.loc['Region_1'] - Year_R_sale_23.loc['Region_1']) / Year_R_sale_24.loc['Region_1']"
   ]
  },
  {
   "cell_type": "code",
   "execution_count": 861,
   "metadata": {},
   "outputs": [],
   "source": [
    "Y_22_23 = ((Year_R_sale_23 - Year_R_sale_22) / Year_R_sale_23)\n",
    "Y_23_24 = ((Year_R_sale_24 - Year_R_sale_23) / Year_R_sale_24)"
   ]
  },
  {
   "cell_type": "code",
   "execution_count": 867,
   "metadata": {},
   "outputs": [
    {
     "data": {
      "text/html": [
       "<div>\n",
       "<style scoped>\n",
       "    .dataframe tbody tr th:only-of-type {\n",
       "        vertical-align: middle;\n",
       "    }\n",
       "\n",
       "    .dataframe tbody tr th {\n",
       "        vertical-align: top;\n",
       "    }\n",
       "\n",
       "    .dataframe thead th {\n",
       "        text-align: right;\n",
       "    }\n",
       "</style>\n",
       "<table border=\"1\" class=\"dataframe\">\n",
       "  <thead>\n",
       "    <tr style=\"text-align: right;\">\n",
       "      <th></th>\n",
       "      <th>Units Sold</th>\n",
       "    </tr>\n",
       "    <tr>\n",
       "      <th>Region</th>\n",
       "      <th></th>\n",
       "    </tr>\n",
       "  </thead>\n",
       "  <tbody>\n",
       "    <tr>\n",
       "      <th>Region_10</th>\n",
       "      <td>0.354620</td>\n",
       "    </tr>\n",
       "    <tr>\n",
       "      <th>Region_1</th>\n",
       "      <td>0.268930</td>\n",
       "    </tr>\n",
       "    <tr>\n",
       "      <th>Region_4</th>\n",
       "      <td>0.068852</td>\n",
       "    </tr>\n",
       "    <tr>\n",
       "      <th>Region_9</th>\n",
       "      <td>0.041018</td>\n",
       "    </tr>\n",
       "    <tr>\n",
       "      <th>Region_6</th>\n",
       "      <td>0.002045</td>\n",
       "    </tr>\n",
       "    <tr>\n",
       "      <th>Region_2</th>\n",
       "      <td>-0.013889</td>\n",
       "    </tr>\n",
       "    <tr>\n",
       "      <th>Region_5</th>\n",
       "      <td>-0.031856</td>\n",
       "    </tr>\n",
       "    <tr>\n",
       "      <th>Region_3</th>\n",
       "      <td>-0.145985</td>\n",
       "    </tr>\n",
       "    <tr>\n",
       "      <th>Region_7</th>\n",
       "      <td>-0.404297</td>\n",
       "    </tr>\n",
       "    <tr>\n",
       "      <th>Region_8</th>\n",
       "      <td>-0.406308</td>\n",
       "    </tr>\n",
       "  </tbody>\n",
       "</table>\n",
       "</div>"
      ],
      "text/plain": [
       "           Units Sold\n",
       "Region               \n",
       "Region_10    0.354620\n",
       "Region_1     0.268930\n",
       "Region_4     0.068852\n",
       "Region_9     0.041018\n",
       "Region_6     0.002045\n",
       "Region_2    -0.013889\n",
       "Region_5    -0.031856\n",
       "Region_3    -0.145985\n",
       "Region_7    -0.404297\n",
       "Region_8    -0.406308"
      ]
     },
     "execution_count": 867,
     "metadata": {},
     "output_type": "execute_result"
    }
   ],
   "source": [
    "pd.DataFrame(Y_22_23).sort_values(by='Units Sold', ascending=False).head(10)\n"
   ]
  },
  {
   "cell_type": "code",
   "execution_count": 901,
   "metadata": {},
   "outputs": [
    {
     "data": {
      "text/plain": [
       "50.0"
      ]
     },
     "execution_count": 901,
     "metadata": {},
     "output_type": "execute_result"
    }
   ],
   "source": [
    "Y_count_22_23 = len(Y_22_23[Y_22_23 > 0])   # The number of positive increases in region\n",
    "Y_count_22_23\n",
    "(Y_count_22_23 / len(Y_22_23)) * 100   # 50% of sales product in region are increases / 50 % are decreased"
   ]
  },
  {
   "cell_type": "code",
   "execution_count": 868,
   "metadata": {},
   "outputs": [
    {
     "data": {
      "text/html": [
       "<div>\n",
       "<style scoped>\n",
       "    .dataframe tbody tr th:only-of-type {\n",
       "        vertical-align: middle;\n",
       "    }\n",
       "\n",
       "    .dataframe tbody tr th {\n",
       "        vertical-align: top;\n",
       "    }\n",
       "\n",
       "    .dataframe thead th {\n",
       "        text-align: right;\n",
       "    }\n",
       "</style>\n",
       "<table border=\"1\" class=\"dataframe\">\n",
       "  <thead>\n",
       "    <tr style=\"text-align: right;\">\n",
       "      <th></th>\n",
       "      <th>Units Sold</th>\n",
       "    </tr>\n",
       "    <tr>\n",
       "      <th>Region</th>\n",
       "      <th></th>\n",
       "    </tr>\n",
       "  </thead>\n",
       "  <tbody>\n",
       "    <tr>\n",
       "      <th>Region_7</th>\n",
       "      <td>0.228916</td>\n",
       "    </tr>\n",
       "    <tr>\n",
       "      <th>Region_6</th>\n",
       "      <td>0.213826</td>\n",
       "    </tr>\n",
       "    <tr>\n",
       "      <th>Region_8</th>\n",
       "      <td>-0.106776</td>\n",
       "    </tr>\n",
       "    <tr>\n",
       "      <th>Region_2</th>\n",
       "      <td>-0.218045</td>\n",
       "    </tr>\n",
       "    <tr>\n",
       "      <th>Region_3</th>\n",
       "      <td>-0.286385</td>\n",
       "    </tr>\n",
       "    <tr>\n",
       "      <th>Region_4</th>\n",
       "      <td>-0.364653</td>\n",
       "    </tr>\n",
       "    <tr>\n",
       "      <th>Region_5</th>\n",
       "      <td>-0.444000</td>\n",
       "    </tr>\n",
       "    <tr>\n",
       "      <th>Region_10</th>\n",
       "      <td>-0.624724</td>\n",
       "    </tr>\n",
       "    <tr>\n",
       "      <th>Region_9</th>\n",
       "      <td>-0.817481</td>\n",
       "    </tr>\n",
       "    <tr>\n",
       "      <th>Region_1</th>\n",
       "      <td>-1.213873</td>\n",
       "    </tr>\n",
       "  </tbody>\n",
       "</table>\n",
       "</div>"
      ],
      "text/plain": [
       "           Units Sold\n",
       "Region               \n",
       "Region_7     0.228916\n",
       "Region_6     0.213826\n",
       "Region_8    -0.106776\n",
       "Region_2    -0.218045\n",
       "Region_3    -0.286385\n",
       "Region_4    -0.364653\n",
       "Region_5    -0.444000\n",
       "Region_10   -0.624724\n",
       "Region_9    -0.817481\n",
       "Region_1    -1.213873"
      ]
     },
     "execution_count": 868,
     "metadata": {},
     "output_type": "execute_result"
    }
   ],
   "source": [
    "pd.DataFrame(Y_23_24).sort_values(by='Units Sold', ascending=False).head(10)"
   ]
  },
  {
   "cell_type": "code",
   "execution_count": 902,
   "metadata": {},
   "outputs": [
    {
     "data": {
      "text/plain": [
       "20.0"
      ]
     },
     "execution_count": 902,
     "metadata": {},
     "output_type": "execute_result"
    }
   ],
   "source": [
    "Y_count_23_24 = len(Y_23_24[Y_23_24 > 0])   # The number of positive increases in region\n",
    "Y_count_23_24\n",
    "(Y_count_23_24 / len(Y_23_24)) * 100   # 20% of sales product in region are increases / 80 % are decreased"
   ]
  },
  {
   "cell_type": "code",
   "execution_count": 847,
   "metadata": {},
   "outputs": [
    {
     "data": {
      "text/plain": [
       "-40.63079777365491"
      ]
     },
     "execution_count": 847,
     "metadata": {},
     "output_type": "execute_result"
    }
   ],
   "source": [
    "Y_22_23_R8 * 100  #  Region 8 decreases the sales of product by 40.62% 2022-2023\n"
   ]
  },
  {
   "cell_type": "code",
   "execution_count": 848,
   "metadata": {},
   "outputs": [
    {
     "data": {
      "text/plain": [
       "-121.38728323699422"
      ]
     },
     "execution_count": 848,
     "metadata": {},
     "output_type": "execute_result"
    }
   ],
   "source": [
    "Y_23_24_R1 * 100   # Region 1 decreases the sales of product by 121.39% during 2023-2024"
   ]
  },
  {
   "cell_type": "code",
   "execution_count": 849,
   "metadata": {},
   "outputs": [
    {
     "data": {
      "text/plain": [
       "Region\n",
       "Region_1     383.0\n",
       "Region_10    368.0\n",
       "Region_5     361.0\n",
       "Region_9     353.5\n",
       "Region_2     324.0\n",
       "Name: Units Sold, dtype: float64"
      ]
     },
     "execution_count": 849,
     "metadata": {},
     "output_type": "execute_result"
    }
   ],
   "source": [
    "Year_R_sale_23.sort_values(ascending=False).head()"
   ]
  },
  {
   "cell_type": "code",
   "execution_count": 850,
   "metadata": {},
   "outputs": [
    {
     "data": {
      "text/plain": [
       "Region\n",
       "Region_7    332.0\n",
       "Region_6    311.0\n",
       "Region_2    266.0\n",
       "Region_5    250.0\n",
       "Region_8    243.5\n",
       "Name: Units Sold, dtype: float64"
      ]
     },
     "execution_count": 850,
     "metadata": {},
     "output_type": "execute_result"
    }
   ],
   "source": [
    "Year_R_sale_24.sort_values(ascending=False).head()"
   ]
  },
  {
   "attachments": {},
   "cell_type": "markdown",
   "metadata": {},
   "source": [
    "Find out why the region sells most are change duing the time change!"
   ]
  },
  {
   "cell_type": "code",
   "execution_count": 903,
   "metadata": {},
   "outputs": [
    {
     "data": {
      "text/plain": [
       "Product\n",
       "Product_15    135.0\n",
       "Product_8     116.0\n",
       "Product_4     116.0\n",
       "Product_44    104.0\n",
       "Product_17    100.0\n",
       "Name: Units Sold, dtype: float64"
      ]
     },
     "execution_count": 903,
     "metadata": {},
     "output_type": "execute_result"
    }
   ],
   "source": [
    "Year_Pop_sale_22.sort_values(ascending=False).head()"
   ]
  },
  {
   "cell_type": "code",
   "execution_count": 852,
   "metadata": {},
   "outputs": [
    {
     "data": {
      "text/plain": [
       "Product\n",
       "Product_24    163.0\n",
       "Product_43    143.0\n",
       "Product_10    120.0\n",
       "Product_4     119.0\n",
       "Product_23    114.0\n",
       "Name: Units Sold, dtype: float64"
      ]
     },
     "execution_count": 852,
     "metadata": {},
     "output_type": "execute_result"
    }
   ],
   "source": [
    "Year_Pop_sale_23.sort_values(ascending=False).head()"
   ]
  },
  {
   "cell_type": "code",
   "execution_count": 853,
   "metadata": {},
   "outputs": [
    {
     "data": {
      "text/plain": [
       "Product\n",
       "Product_19    119.0\n",
       "Product_24     99.0\n",
       "Product_8      88.0\n",
       "Product_37     87.0\n",
       "Product_43     76.0\n",
       "Name: Units Sold, dtype: float64"
      ]
     },
     "execution_count": 853,
     "metadata": {},
     "output_type": "execute_result"
    }
   ],
   "source": [
    "Year_Pop_sale_24.sort_values(ascending=False).head()"
   ]
  },
  {
   "attachments": {},
   "cell_type": "markdown",
   "metadata": {},
   "source": [
    "The Product was popular in 22 & 23 become less popular in 24. Find out by what kind of reason? Enviroment, politics, tech..."
   ]
  },
  {
   "cell_type": "code",
   "execution_count": 854,
   "metadata": {},
   "outputs": [
    {
     "data": {
      "text/plain": [
       "<Axes: xlabel='Units Sold', ylabel='Count'>"
      ]
     },
     "execution_count": 854,
     "metadata": {},
     "output_type": "execute_result"
    },
    {
     "data": {
      "image/png": "[encoded data removed]",
      "text/plain": [
       "<Figure size 640x480 with 1 Axes>"
      ]
     },
     "metadata": {},
     "output_type": "display_data"
    }
   ],
   "source": [
    "sns.histplot(df['Units Sold'])  # most of us item selled 10 each time"
   ]
  },
  {
   "attachments": {},
   "cell_type": "markdown",
   "metadata": {},
   "source": [
    "1. What conclusions can you draw about sales performance of various products and regions?\n",
    "\n",
    "First,let's see the Total data analysis. 24/4/8/40/43 is our top 5 best-selling products. But it's not in the top five profitable lists. The most profitable product is the product 34/49/27/50/23. So the company needs to promote the most profitable product vigorously.\n",
    "Region 2/8/5/10/7 sells the most money, region 5/7/2/8/9 sells the most products, the company should focus on region 2/8/5/8, these regions sell more things, but also make money.\n",
    "\n",
    "Then there's the annual analysis,  Year 22-23 has increased sales slighlty. However,in 23-24, the company seemed to have changed a lot,  with a 46% drop in sales. The company needs to find out whether internal management or external environmental factors  caused the problem, which is crucial. In 22-23, the sales volume increased by 42% and decreased by 58%, but the total revenue increased by 7.28%. It could be that sales of more valuable goods go up and sales of less valuable goods go down. During 23-24, the sales of 30% products increased and 70% products decreased, but the sales decreased by 46.93%. A big reason might be that valuable goods are not selling, probably because of the economic environment.\n",
    "\n",
    " Also， The company's sales in 24 years are largely due to external market changes, but also partly due to internal operational problems. According to the analysis of 22-23, the company does not focus on maintaining regions with high sales, such as Region 8 decreases the sales of product by 40.62% 2022-2023, Region 1 decreases the sales of product by 121.39% during 2023-2024. Region 1 Decreases the sales of product by 121.39% during 2023-2024\n",
    "\n"
   ]
  },
  {
   "attachments": {},
   "cell_type": "markdown",
   "metadata": {},
   "source": [
    "2. What recommendations do you have for the business?\n",
    "\n",
    "Companies need to adjust strategy, modify product lines, or discard some of the less important products or regions, so as to reduce the risk of unstable years. At the same time, companies need to focus on which products or regions sell well and invest more resources so that these advantages are not squandered。\n"
   ]
  },
  {
   "attachments": {},
   "cell_type": "markdown",
   "metadata": {},
   "source": [
    "3. Describe your data cleaning approach. How and why did you decide on which cleaning techniques to use?\n",
    "\n",
    "I use histplot to determine that the data has no outliers. Then data cleaning is carried out, and the median value is used to fill in the missing units sold and price. Then delete the missing products and regions.\n",
    "I choose groupby (product) method to determine the median, because I think the median here can better represent the accuracy of data.\n",
    " calculating product and region by price or units sold, which may lead to inaccurate data, so I choose to delete them.\n",
    " "
   ]
  }
 ],
 "metadata": {
  "kernelspec": {
   "display_name": "Python 3",
   "language": "python",
   "name": "python3"
  },
  "language_info": {
   "codemirror_mode": {
    "name": "ipython",
    "version": 3
   },
   "file_extension": ".py",
   "mimetype": "text/x-python",
   "name": "python",
   "nbconvert_exporter": "python",
   "pygments_lexer": "ipython3",
   "version": "3.11.3"
  },
  "orig_nbformat": 4
 },
 "nbformat": 4,
 "nbformat_minor": 2
}
